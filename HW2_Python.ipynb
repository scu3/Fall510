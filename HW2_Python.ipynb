{
 "cells": [
  {
   "cell_type": "markdown",
   "metadata": {},
   "source": [
    "# Sean Underwood\n",
    "###Homework 2\n",
    "###Math 510, Fall 2015"
   ]
  },
  {
   "cell_type": "markdown",
   "metadata": {},
   "source": [
    "###Problem 1: "
   ]
  },
  {
   "cell_type": "code",
   "execution_count": 1,
   "metadata": {
    "collapsed": false
   },
   "outputs": [],
   "source": [
    "def fib(n):\n",
    "    \"\"\"The fib() function is designed to accept a number, 'n', as a paramter and print all of \n",
    "    the Fibonacci numbers less than 'n' to the screen.  A Fibonacci number 'n' is equal to the\n",
    "    sum of the two numbers preceeding it in the Fibonacci Sequence.  More precisely, \n",
    "    F(n) = F(n-1) + F(n-2).  The Fibonacci Sequence starts with 0,1,1,2,3,5,8,13,. . .\"\"\"\n",
    "    # Our program follows the following strategy: (1) Make sure that the user has given us the \n",
    "    # corrent 'type'.  We need a number.  This means that we can work with a positive integer\n",
    "    # or a positive float value.  It doens't make sense to try to perform this function if n is \n",
    "    # a string,boolean, negative number, etc. We employ an if,elif, else structure to determine \n",
    "    # if the correct type is given.  (2)  We will handle a couple of special cases and then we \n",
    "    # will build up a list of Fibonacci numbers.  (3)  Finally, we will print the contents of \n",
    "    # our list.\n",
    "    \n",
    "    # we want to ensure that the user enters a positive number.\n",
    "    # first, we alert the user if they enter the incorrect 'type'\n",
    "    # when doing logical tests, == means is equal to and != means is not equal to.\n",
    "    # note that we use return statements so we can exit the function if they are reached.\n",
    "    if type(n) != int and type(n) != float:\n",
    "        return(\"Your input what the wrong 'type'.  Please enter a positive integer\")\n",
    "\n",
    "\n",
    "    # second, we alert the user if they entered a negative number    \n",
    "    elif n < 0:\n",
    "        return(\"You entered a negative number.  Please enter a positive integer\")\n",
    "\n",
    "    # now that we can assume that we have received the correct 'type', we handle a\n",
    "    # couple special cases before we start to build our equation.  As you will see,\n",
    "    # because of the way we are going to handle general casses, we need to handle the  \n",
    "    # case when n is positive but n <= 1 (which covers zero).\n",
    "      \n",
    "    else:\n",
    "        if n <= 1:               #since we have already restricted negatives this works\n",
    "            print('0')\n",
    "        \n",
    "    # we start with a list that contains the first 3 elements of the Fibonacci Sequence.\n",
    "    # we then employ a while loop to keep building our list with the desired fibonacci\n",
    "    # numbers.  We take advantage of Python's negative indexing capabilities.  Each time \n",
    "    # we re-enter the while loop, we will test the value of the last memeber of the list\n",
    "    # against the value of n.  As long as the last value of the list is below n, we will\n",
    "    # continue to build the list.  Note that since we handled all of the special cases\n",
    "    # for when n <= 1, any other input that is greater than 1 will return the \n",
    "    # correct 0,1,1 result.\n",
    "        else:\n",
    "            fibonacci_list = [0,1,1]\n",
    "            while fibonacci_list[-1] < n:\n",
    "                new_fibonacci_value = fibonacci_list[-1] + fibonacci_list[-2]\n",
    "                fibonacci_list.append(new_fibonacci_value)\n",
    "\n",
    "    # because the instructions for this problem asked us to print all of the Fibonacci numbers\n",
    "    # less than 'n', we have to remove the last member of our list.  The last member is either\n",
    "    # greater than or equal to n.\n",
    "            fibonacci_list.pop()\n",
    "\n",
    "    \n",
    "    # now our list is complete, we employ a for loop to print each 'num' in the list.  The \n",
    "    # problem did not specify how these numbers were supposed to be printed so I chose to \n",
    "    # use the 'end=' command which allows the print output to continue from left to right.\n",
    "            for num in fibonacci_list:\n",
    "                print (num, end=' ')\n",
    "\n",
    "    # the problem did not ask us to return a value so we omit the return statement which results\n",
    "    # in our function returning the None value"
   ]
  },
  {
   "cell_type": "code",
   "execution_count": 2,
   "metadata": {
    "collapsed": false
   },
   "outputs": [
    {
     "name": "stdout",
     "output_type": "stream",
     "text": [
      "0 1 1 2 3 5 8 13 21 34 55 89 144 233 377 610 987 1597 2584 4181 "
     ]
    }
   ],
   "source": [
    "fib(4181.5)"
   ]
  },
  {
   "cell_type": "code",
   "execution_count": 3,
   "metadata": {
    "collapsed": false
   },
   "outputs": [
    {
     "name": "stdout",
     "output_type": "stream",
     "text": [
      "0\n"
     ]
    }
   ],
   "source": [
    "fib(1)"
   ]
  },
  {
   "cell_type": "code",
   "execution_count": 4,
   "metadata": {
    "collapsed": false
   },
   "outputs": [
    {
     "name": "stdout",
     "output_type": "stream",
     "text": [
      "0\n"
     ]
    }
   ],
   "source": [
    "fib(1/2)\n"
   ]
  },
  {
   "cell_type": "code",
   "execution_count": 5,
   "metadata": {
    "collapsed": false
   },
   "outputs": [
    {
     "name": "stdout",
     "output_type": "stream",
     "text": [
      "0 1 1 "
     ]
    }
   ],
   "source": [
    "fib(1.0000000001)"
   ]
  },
  {
   "cell_type": "code",
   "execution_count": 6,
   "metadata": {
    "collapsed": false
   },
   "outputs": [
    {
     "name": "stdout",
     "output_type": "stream",
     "text": [
      "0\n"
     ]
    }
   ],
   "source": [
    "fib(1)\n"
   ]
  },
  {
   "cell_type": "code",
   "execution_count": 7,
   "metadata": {
    "collapsed": false
   },
   "outputs": [
    {
     "name": "stdout",
     "output_type": "stream",
     "text": [
      "0\n"
     ]
    }
   ],
   "source": [
    "fib(.10546789)"
   ]
  },
  {
   "cell_type": "code",
   "execution_count": 8,
   "metadata": {
    "collapsed": false
   },
   "outputs": [
    {
     "data": {
      "text/plain": [
       "\"Your input what the wrong 'type'.  Please enter a positive integer\""
      ]
     },
     "execution_count": 8,
     "metadata": {},
     "output_type": "execute_result"
    }
   ],
   "source": [
    "fib('sean')"
   ]
  },
  {
   "cell_type": "code",
   "execution_count": 9,
   "metadata": {
    "collapsed": false
   },
   "outputs": [
    {
     "name": "stdout",
     "output_type": "stream",
     "text": [
      "0 1 1 2 "
     ]
    }
   ],
   "source": [
    "fib(2.00000001)\n"
   ]
  },
  {
   "cell_type": "markdown",
   "metadata": {},
   "source": [
    "###Problem 2:"
   ]
  },
  {
   "cell_type": "code",
   "execution_count": 19,
   "metadata": {
    "collapsed": false
   },
   "outputs": [],
   "source": [
    "def mymax(x,y):\n",
    "    \"\"\"The mymax() function is designed to accept two numbers from the user and return the largest\n",
    "    of them.  We are to use the if-then-else construct\"\"\"\n",
    "    \n",
    "    # as in problem 1, the first thing we do is make sure that we have received input that we can\n",
    "    # work with.  We need a int or a float.\n",
    "    \n",
    "    if type(x) != int and type(x) != float: \n",
    "        return ('Your first input was not a number.  Please enter two numbers.')\n",
    "    \n",
    "    elif type(y) != int and type(y) != float:\n",
    "        return ('Your second input was not a number.  Please enter two numbers')\n",
    "        \n",
    "    else:\n",
    "    # assuming that we are working with two numbers, we will test the values to see which \n",
    "    # is larger. There are three cases to consider.  We use the if,elif, else construct.   \n",
    "    \n",
    "    # case 1: the first number (x) is larger than the second number (y):\n",
    "        if x > y:\n",
    "            return (x)\n",
    "    \n",
    "    # case 2: the first number (x) is smaller than the second number (y):\n",
    "        elif x < y:\n",
    "            return (y)\n",
    "            \n",
    "    # case 3: the two numbers are equal\n",
    "    # while this case was not really necessary because we could have used x >= y in case 1\n",
    "    # to cover it, I wanted to emphasize that this is a possible case that could be handled\n",
    "    # in different ways.  We could alert the user to the fact that the two numbers are the \n",
    "    # same which may or may not be useful.  Since the problem said to return the largest\n",
    "    # number, that is what we will do.  If x == y we can return either x or y to accomplish\n",
    "    # this.  \n",
    "        else:\n",
    "            return (x)\n"
   ]
  },
  {
   "cell_type": "code",
   "execution_count": 20,
   "metadata": {
    "collapsed": false
   },
   "outputs": [
    {
     "data": {
      "text/plain": [
       "'Your second input was not a number.  Please enter two numbers'"
      ]
     },
     "execution_count": 20,
     "metadata": {},
     "output_type": "execute_result"
    }
   ],
   "source": [
    "mymax(8,'a')"
   ]
  },
  {
   "cell_type": "code",
   "execution_count": 21,
   "metadata": {
    "collapsed": false
   },
   "outputs": [
    {
     "data": {
      "text/plain": [
       "450.0"
      ]
     },
     "execution_count": 21,
     "metadata": {},
     "output_type": "execute_result"
    }
   ],
   "source": [
    "mymax(-4.5*-100,-100)"
   ]
  },
  {
   "cell_type": "code",
   "execution_count": 22,
   "metadata": {
    "collapsed": false
   },
   "outputs": [
    {
     "data": {
      "text/plain": [
       "0.5"
      ]
     },
     "execution_count": 22,
     "metadata": {},
     "output_type": "execute_result"
    }
   ],
   "source": [
    "mymax(1/2,-5)"
   ]
  },
  {
   "cell_type": "code",
   "execution_count": 23,
   "metadata": {
    "collapsed": false
   },
   "outputs": [
    {
     "data": {
      "text/plain": [
       "0.75"
      ]
     },
     "execution_count": 23,
     "metadata": {},
     "output_type": "execute_result"
    }
   ],
   "source": [
    "mymax(3/4,3/4)"
   ]
  },
  {
   "cell_type": "markdown",
   "metadata": {},
   "source": [
    "###Problem 3:"
   ]
  },
  {
   "cell_type": "code",
   "execution_count": 24,
   "metadata": {
    "collapsed": false
   },
   "outputs": [],
   "source": [
    "def max_of_three(x,y,z):\n",
    "    \"\"\"The max_of_three() function accepts three numbers as arguements and returns the\n",
    "    largest of them.\"\"\"\n",
    "    \n",
    "    # as in problem 1 & 2, the first thing we do is make sure that we have received input that we can\n",
    "    # work with.  We need a int or a float.\n",
    "    \n",
    "    if type(x) != int and type(x) != float: \n",
    "        return ('Your first input was not a number.  Please enter three numbers.')\n",
    "    \n",
    "    elif type(y) != int and type(y) != float:\n",
    "        return ('Your second input was not a number.  Please enter three numbers')\n",
    "          \n",
    "    elif type(z) != int and type(z) != float:\n",
    "        return ('Your third input was not a number.  Please enter three numbers')\n",
    "        \n",
    "    else:\n",
    "    # we could test every case but we are going to shorten our algorithm by making use of the\n",
    "    # law of transitivity: if a > b and b > c then a > c.  \n",
    "    # the question is only asking us to return the value of the greatest arguement.  This means\n",
    "    # that if all three are equal, the greatest number will be equal to all three of them.  This\n",
    "    # means that our logic will still work.  We will test if x > y.  If true, we will test if\n",
    "    # x > z, if true, then the value of x is the largest.  If x = y = z = 4, then the test \n",
    "    # x > y will be False, the test y > z will be false and our program will conclude that \n",
    "    # z is the largest value.  Since x = y = z = 4, the answer of 4 will be correct.\n",
    "    \n",
    "        if x > y:\n",
    "            if x > z:\n",
    "                return (x)\n",
    "            else: \n",
    "                return (z)\n",
    "        else:\n",
    "            if y > z:\n",
    "                return (y)\n",
    "            else:\n",
    "                return (z)\n",
    "    # it is worth noting that this program asked us to use the return function instead of the\n",
    "    # print function.  Once our return statement is reached, we leave the program."
   ]
  },
  {
   "cell_type": "code",
   "execution_count": 25,
   "metadata": {
    "collapsed": false
   },
   "outputs": [
    {
     "data": {
      "text/plain": [
       "1009"
      ]
     },
     "execution_count": 25,
     "metadata": {},
     "output_type": "execute_result"
    }
   ],
   "source": [
    "max_of_three(1009,10,10)"
   ]
  },
  {
   "cell_type": "code",
   "execution_count": 26,
   "metadata": {
    "collapsed": false
   },
   "outputs": [
    {
     "data": {
      "text/plain": [
       "'Your first input was not a number.  Please enter three numbers.'"
      ]
     },
     "execution_count": 26,
     "metadata": {},
     "output_type": "execute_result"
    }
   ],
   "source": [
    "max_of_three('s','l',5)"
   ]
  },
  {
   "cell_type": "code",
   "execution_count": 27,
   "metadata": {
    "collapsed": false
   },
   "outputs": [
    {
     "data": {
      "text/plain": [
       "-20"
      ]
     },
     "execution_count": 27,
     "metadata": {},
     "output_type": "execute_result"
    }
   ],
   "source": [
    "max_of_three( -20,-20,-20)"
   ]
  },
  {
   "cell_type": "markdown",
   "metadata": {},
   "source": [
    "###Problem 4:"
   ]
  },
  {
   "cell_type": "code",
   "execution_count": 28,
   "metadata": {
    "collapsed": true
   },
   "outputs": [],
   "source": [
    "def mylen(input):\n",
    "    \"\"\"The mylen() function accepts a string or list as input and returns the length\"\"\"\n",
    "\n",
    "    # the first thing we do is make sure that we have received input that we can\n",
    "    # work with.  We need a string (type str) or a list.\n",
    "    \n",
    "    if type(input) != str and type(input) != list: \n",
    "        return ('Your input was not a string or a list.  Please enter a string or a list')\n",
    "    \n",
    "    else:\n",
    "    # we initialize a counter variable to help us count the number of characters/elements \n",
    "    # in our input.  \n",
    "        counter = 0  #we have not counted anything yet so 0 makes sense\n",
    "    \n",
    "    # we will use a for loop to iterate through our input.  Each time we iterate to a new\n",
    "    # character/element, we will increase the value of our counter by one.\n",
    "    \n",
    "        for value in input:\n",
    "            counter += 1  # the += just means counter = counter + 1\n",
    "    \n",
    "        return(counter)"
   ]
  },
  {
   "cell_type": "code",
   "execution_count": 29,
   "metadata": {
    "collapsed": false
   },
   "outputs": [
    {
     "data": {
      "text/plain": [
       "26"
      ]
     },
     "execution_count": 29,
     "metadata": {},
     "output_type": "execute_result"
    }
   ],
   "source": [
    "mylen('Testing the mylen function')"
   ]
  },
  {
   "cell_type": "code",
   "execution_count": 30,
   "metadata": {
    "collapsed": false
   },
   "outputs": [
    {
     "data": {
      "text/plain": [
       "0"
      ]
     },
     "execution_count": 30,
     "metadata": {},
     "output_type": "execute_result"
    }
   ],
   "source": [
    "mylen('')"
   ]
  },
  {
   "cell_type": "code",
   "execution_count": 31,
   "metadata": {
    "collapsed": false
   },
   "outputs": [],
   "source": [
    "def vowel_test(input):\n",
    "    \"\"\"The vowel_test() function accepts a character, defined as a string of length 1, and\n",
    "    tests it to see if it is a vowel.  The function will return a True or False\"\"\"\n",
    "    \n",
    "    # the first thing we do is make sure that we have received input that we can\n",
    "    # work with.  We need a string (type str).\n",
    "    \n",
    "    if type(input) != str: \n",
    "        return ('What you entered is not a string. Please enter a one character string.')\n",
    "    else:\n",
    "    # it is possible that our user enters a string but enters a string that is too long.  We can\n",
    "    # employ the mylen function that we just wrote to help us here.\n",
    "\n",
    "        if mylen(input) > 1:\n",
    "               print('Thank you for entering a string but please only enter one character.')\n",
    "        else:\n",
    "    # at this point we know that we have a string and we know that it is only one character long\n",
    "    # the english language has the following vowels: a, e, i, o, u.  We can't forget the Capital\n",
    "    # versions either: A,E,I,O,U!\n",
    "            \n",
    "            if input != 'a' and input != 'e' and input != 'i' and input != 'o' and input != 'u'\\\n",
    "            and input != 'A' and input != 'E' and input != 'I' and input != 'O' and input != 'U':\n",
    "                return (False)\n",
    "            else:\n",
    "                return (True)"
   ]
  },
  {
   "cell_type": "code",
   "execution_count": 32,
   "metadata": {
    "collapsed": false
   },
   "outputs": [
    {
     "data": {
      "text/plain": [
       "True"
      ]
     },
     "execution_count": 32,
     "metadata": {},
     "output_type": "execute_result"
    }
   ],
   "source": [
    "vowel_test('I')"
   ]
  },
  {
   "cell_type": "code",
   "execution_count": 33,
   "metadata": {
    "collapsed": false
   },
   "outputs": [
    {
     "name": "stdout",
     "output_type": "stream",
     "text": [
      "Thank you for entering a string but please only enter one character.\n"
     ]
    }
   ],
   "source": [
    "vowel_test('ae')"
   ]
  },
  {
   "cell_type": "code",
   "execution_count": 34,
   "metadata": {
    "collapsed": false
   },
   "outputs": [
    {
     "data": {
      "text/plain": [
       "False"
      ]
     },
     "execution_count": 34,
     "metadata": {},
     "output_type": "execute_result"
    }
   ],
   "source": [
    "vowel_test('!')"
   ]
  },
  {
   "cell_type": "markdown",
   "metadata": {},
   "source": [
    "###Problem 6:"
   ]
  },
  {
   "cell_type": "code",
   "execution_count": 41,
   "metadata": {
    "collapsed": false
   },
   "outputs": [],
   "source": [
    "def translate(input):\n",
    "    \"\"\"The translate() function converts a string into \"rober's language\".  This means that we \n",
    "    double every consonant and place an occurrence of 'o' in between.  For example, \n",
    "    translate(\"this is fun\") should return \"tothohisos isos fofunon\"\"\"\n",
    "    \n",
    "    \n",
    "    # the first thing we do is make sure that we have received input that we can\n",
    "    # work with.  We need a string (type str).\n",
    "    \n",
    "    if type(input) != str: \n",
    "        return ('Your input was not a string. Please enter a string.')\n",
    "        \n",
    "    else:\n",
    "    # each character of our input is either a space, vowel, consonant, or special character.\n",
    "    # We create a nested for loop and test each element and build up a new string accordingly.\n",
    "    # A string is an immutable type in python, this means that we cannot \"change\" a string.  \n",
    "    # We can, however, use the concantenate functionality of python to build a \"new\" string.  \n",
    "    # For example, 's' + 's results in 'ss'.  We will call the string that we are \n",
    "    # building \"output\".\n",
    "    \n",
    "    # initialize output\n",
    "        output = ''    \n",
    "    # if our letter is a space, vowel, or special character, it is added to the output.  if \n",
    "    # our letter is a consonant, it must be doubled and have an 'o' inserted in between.  We\n",
    "    # will build a list of consonants to test our letters against.\n",
    "    \n",
    "        consonant_list=['b','B','c','C','d','D','f','F','g','G','h','H','j','J','k','K','l','L',\\\n",
    "                        'm','M','n','N','p','P','q','Q','r','R','s','S','t','T','v','V','w','W',\\\n",
    "                        'x','X','y','Y','z','Z']\n",
    "     \n",
    "    # now we start our nested loop.  the outside loop will run through our input. the inside loop \n",
    "    # take each letter of our input and test it against our list of consonants.  before the \n",
    "    # inside loop starts each time, we initiate a variable to keep track of whether or not we\n",
    "    # have found our letter in the list.  we initialize as false, this way if we run through the\n",
    "    # entire list and it is still false, then we know that we have not found a match and our \n",
    "    # letter is not a consonant.\n",
    "        for letter in input:            \n",
    "            is_consonant = False\n",
    "            for consonant in consonant_list:\n",
    "                if letter == consonant:\n",
    "                    is_consonant = True\n",
    "             \n",
    "            if is_consonant == True:\n",
    "                output = output + letter + 'o'+ letter\n",
    "            \n",
    "            else:\n",
    "                output = output + letter\n",
    "\n",
    "    return (output)"
   ]
  },
  {
   "cell_type": "code",
   "execution_count": 42,
   "metadata": {
    "collapsed": false
   },
   "outputs": [
    {
     "data": {
      "text/plain": [
       "'tothohisos isos fofunon'"
      ]
     },
     "execution_count": 42,
     "metadata": {},
     "output_type": "execute_result"
    }
   ],
   "source": [
    "translate(\"this is fun\")"
   ]
  },
  {
   "cell_type": "code",
   "execution_count": 43,
   "metadata": {
    "collapsed": false
   },
   "outputs": [
    {
     "data": {
      "text/plain": [
       "'567'"
      ]
     },
     "execution_count": 43,
     "metadata": {},
     "output_type": "execute_result"
    }
   ],
   "source": [
    "translate(\"567\")"
   ]
  },
  {
   "cell_type": "code",
   "execution_count": 44,
   "metadata": {
    "collapsed": false
   },
   "outputs": [
    {
     "data": {
      "text/plain": [
       "'coc!'"
      ]
     },
     "execution_count": 44,
     "metadata": {},
     "output_type": "execute_result"
    }
   ],
   "source": [
    "translate('c!')"
   ]
  },
  {
   "cell_type": "code",
   "execution_count": 45,
   "metadata": {
    "collapsed": false
   },
   "outputs": [
    {
     "data": {
      "text/plain": [
       "'Your input was not a string. Please enter a string.'"
      ]
     },
     "execution_count": 45,
     "metadata": {},
     "output_type": "execute_result"
    }
   ],
   "source": [
    "translate(7)"
   ]
  },
  {
   "cell_type": "markdown",
   "metadata": {
    "collapsed": true
   },
   "source": [
    "###Problem 7:\n"
   ]
  },
  {
   "cell_type": "code",
   "execution_count": 50,
   "metadata": {
    "collapsed": false
   },
   "outputs": [],
   "source": [
    "def sum(input):\n",
    "    \"\"\"The sum() function accepts a list and sums the numbers inside of the list\"\"\"\n",
    "    # the first thing we do is make sure that we have received input that we can\n",
    "    # work with.  We need a list.\n",
    "    \n",
    "    if type(input) != list: \n",
    "        return ('Your input was not a list. Please enter a list containing numbers.')\n",
    "        \n",
    "    else:\n",
    "    # now that we know that we have a list, we need to make sure that the list contains\n",
    "    # numbers, a list can contain objects of different types.\n",
    "    \n",
    "    # we will iterate through the list and make sure that each element matches the type that\n",
    "    # we need.  We will use a return statement so the program will end if we reach it.\n",
    "    # if our element is a number, we will add it to our sum variable that we will initialize\n",
    "    # to keep track of our sum.\n",
    "    \n",
    "        sum_output = 0  #we initialize to zero because we are using addition\n",
    "        \n",
    "        for element in input:\n",
    "            if type(element) != int and type(element) != float:\n",
    "                return ('Your input was a list but one of the elements was not a number.')\n",
    "            else:\n",
    "                sum_output += element\n",
    "    \n",
    "    return (sum_output)"
   ]
  },
  {
   "cell_type": "code",
   "execution_count": 51,
   "metadata": {
    "collapsed": false
   },
   "outputs": [
    {
     "data": {
      "text/plain": [
       "10"
      ]
     },
     "execution_count": 51,
     "metadata": {},
     "output_type": "execute_result"
    }
   ],
   "source": [
    "sum([1,2,3,4])"
   ]
  },
  {
   "cell_type": "code",
   "execution_count": 52,
   "metadata": {
    "collapsed": false
   },
   "outputs": [
    {
     "data": {
      "text/plain": [
       "'Your input was a list but one of the elements was not a number.'"
      ]
     },
     "execution_count": 52,
     "metadata": {},
     "output_type": "execute_result"
    }
   ],
   "source": [
    "sum([1,2,3,4,'s'])"
   ]
  },
  {
   "cell_type": "code",
   "execution_count": 53,
   "metadata": {
    "collapsed": false
   },
   "outputs": [
    {
     "data": {
      "text/plain": [
       "-6.3543211"
      ]
     },
     "execution_count": 53,
     "metadata": {},
     "output_type": "execute_result"
    }
   ],
   "source": [
    "sum([-5,-5,3.1456789, 1/2])"
   ]
  },
  {
   "cell_type": "code",
   "execution_count": 55,
   "metadata": {
    "collapsed": true
   },
   "outputs": [],
   "source": [
    "def multiply(input):\n",
    "    \"\"\"The multiply() function accepts a list and multiplies the numbers inside of the list\"\"\"\n",
    "    # the first thing we do is make sure that we have received input that we can\n",
    "    # work with.  We need a list.\n",
    "    \n",
    "    if type(input) != list: \n",
    "        return ('Your input was not a list. Please enter a list containing numbers.')\n",
    "        \n",
    "    else:\n",
    "    # now that we know that we have a list, we need to make sure that the list contains\n",
    "    # numbers, a list can contain objects of different types.\n",
    "    \n",
    "    # we will iterate through the list and make sure that each element matches the type that\n",
    "    # we need.  We will use a return statement so the program will end if we reach it.\n",
    "    # if our element is a number, we will add it to our sum variable that we will initialize\n",
    "    # to keep track of our sum.\n",
    "    \n",
    "        product_output = 1  #we initialize to zero because we are using multiplication\n",
    "        \n",
    "        for element in input:\n",
    "            if type(element) != int and type(element) != float:\n",
    "                return ('Your input was a list but one of the elements was not a number.')\n",
    "            else:\n",
    "                product_output *= element\n",
    "    \n",
    "    return (product_output)"
   ]
  },
  {
   "cell_type": "code",
   "execution_count": 56,
   "metadata": {
    "collapsed": false
   },
   "outputs": [
    {
     "data": {
      "text/plain": [
       "1050"
      ]
     },
     "execution_count": 56,
     "metadata": {},
     "output_type": "execute_result"
    }
   ],
   "source": [
    "multiply([5,5,6,7])"
   ]
  },
  {
   "cell_type": "code",
   "execution_count": 57,
   "metadata": {
    "collapsed": false
   },
   "outputs": [
    {
     "data": {
      "text/plain": [
       "'Your input was a list but one of the elements was not a number.'"
      ]
     },
     "execution_count": 57,
     "metadata": {},
     "output_type": "execute_result"
    }
   ],
   "source": [
    "multiply([1/4,'s',0])"
   ]
  },
  {
   "cell_type": "markdown",
   "metadata": {},
   "source": [
    "###Problem 8:\n"
   ]
  },
  {
   "cell_type": "code",
   "execution_count": 63,
   "metadata": {
    "collapsed": true
   },
   "outputs": [],
   "source": [
    "def reverse(input):\n",
    "    \"\"\"The reverse fuction computes the reversal of a string.  For example, reverse('I am testing')\n",
    "    shoud return the string 'gnitset ma I'\"\"\"\n",
    "\n",
    "    # the first thing we do is make sure that we have received input that we can\n",
    "    # work with.  The problem specified that we need a string (type str).\n",
    "    \n",
    "    if type(input) != str: \n",
    "        return ('Your inputw was not a string. Please enter a string.')\n",
    "        \n",
    "    else:\n",
    "        \n",
    "    # our strategy is to iterate backwards through our input using an indexed for loop.\n",
    "    # to iterate backwards, we will use the range function and list function to build a list\n",
    "    # of indices.  The range function does just what it says, given a start, stop, and step value\n",
    "    # it creates a range of integers in between start (inlcusive) and stop (exclusive).  The list\n",
    "    # function just makes that range list every integer in between.  For example, range(0,5) will \n",
    "    # return range(0,5).  list(range(0,5)) will return 0,1,2,3,4.   As indicated, we will use\n",
    "    # list(range(start, stop, step)) will build our list.  As we have seen before, the stop \n",
    "    # value is not included in the list.  I want my list to go backwards so i will use the \n",
    "    # list(range(-1,(mylen(input)*-1)-1,-1)).  This means that we will start at index -1 which\n",
    "    # is the last element of the string.  We will then iterate by a step of -1 which goes \n",
    "    # bacwards through the string and to make sure that we include the first element, our stop\n",
    "    # value is one less than the number of elements in the string.\n",
    "    \n",
    "    #we initialize a new string 'output' that we will use to build up our new string\n",
    "    \n",
    "        output = ''\n",
    "        for i in list(range(-1,(mylen(input)*-1)-1,-1)):\n",
    "                output = output + input[i]\n",
    "                \n",
    "        return(output)\n",
    "    \n",
    "    "
   ]
  },
  {
   "cell_type": "code",
   "execution_count": 64,
   "metadata": {
    "collapsed": false
   },
   "outputs": [
    {
     "data": {
      "text/plain": [
       "'b a'"
      ]
     },
     "execution_count": 64,
     "metadata": {},
     "output_type": "execute_result"
    }
   ],
   "source": [
    "reverse('a b')"
   ]
  },
  {
   "cell_type": "code",
   "execution_count": 65,
   "metadata": {
    "collapsed": false
   },
   "outputs": [
    {
     "data": {
      "text/plain": [
       "'hcus dna sretcarahc laiceps $ srebmun 4 sah taht tset gnol yllaer a si siht'"
      ]
     },
     "execution_count": 65,
     "metadata": {},
     "output_type": "execute_result"
    }
   ],
   "source": [
    "reverse('this is a really long test that has 4 numbers $ special characters and such')"
   ]
  },
  {
   "cell_type": "code",
   "execution_count": 66,
   "metadata": {
    "collapsed": false
   },
   "outputs": [
    {
     "data": {
      "text/plain": [
       "'Your inputw was not a string. Please enter a string.'"
      ]
     },
     "execution_count": 66,
     "metadata": {},
     "output_type": "execute_result"
    }
   ],
   "source": [
    "reverse([1,2,3,4])"
   ]
  },
  {
   "cell_type": "code",
   "execution_count": 67,
   "metadata": {
    "collapsed": false
   },
   "outputs": [
    {
     "data": {
      "text/plain": [
       "''"
      ]
     },
     "execution_count": 67,
     "metadata": {},
     "output_type": "execute_result"
    }
   ],
   "source": [
    "reverse('')"
   ]
  },
  {
   "cell_type": "markdown",
   "metadata": {},
   "source": [
    "###Problem 9:\n"
   ]
  },
  {
   "cell_type": "code",
   "execution_count": 68,
   "metadata": {
    "collapsed": false
   },
   "outputs": [],
   "source": [
    "def is_palindrome(input):\n",
    "    \"\"\"The is_palindrome() function accepts a string and recognizes if the word is a \n",
    "    palindrome.  If the word is a palindrom, the function will return True\"\"\"\n",
    "    \n",
    "    # the first thing we do is make sure that we have received input that we can\n",
    "    # work with.  The problem specified that we need a string (type str).\n",
    "    \n",
    "    if type(input) != str: \n",
    "        return ('Your input was not a string. Please enter a string.')\n",
    "        \n",
    "    else:\n",
    "    # now we are sure that we have a string, we need to consider different types of strings\n",
    "    # and how the definition of palindrome applies to them.  We consider the following types\n",
    "    # of strings (1) a non-empty multiple character strings like 'a aba a'.  This is \n",
    "    # straightforward and our function will return True. (2) a non-empty string of only one \n",
    "    # character is straightforward, by the definition 'a' and 'a' are palindromes.  (3) strings\n",
    "    # containing only spaces will work fine.  (4) non-empty strings need some consideration\n",
    "    # in this function, we choose to view the empty string as nothing at all.  Therefore,\n",
    "    # while '' and '' are equal, we will alert the user that they have entered an empty string\n",
    "    # and that isn't really anything at all.\n",
    "        if input == '':\n",
    "            return ('You have entered an empty string.  Please enter a non-empty string.')\n",
    "\n",
    "    # now we will take care of cases 1- 3.   \n",
    "    # we are going to take advantage of work that we have already done.  Since a palindrome\n",
    "    # is a word that is the same when you reverse the order of the characters, we will use\n",
    "    # our reverse function to reverse the string and then we will test the reversed string\n",
    "    # to see if it equals our original word.\n",
    "        \n",
    "        new_string = reverse(input)\n",
    "        \n",
    "        if input == new_string:\n",
    "            return (True)\n",
    "        else:\n",
    "            return (False)\n",
    "        \n",
    "        "
   ]
  },
  {
   "cell_type": "code",
   "execution_count": 69,
   "metadata": {
    "collapsed": false
   },
   "outputs": [
    {
     "data": {
      "text/plain": [
       "True"
      ]
     },
     "execution_count": 69,
     "metadata": {},
     "output_type": "execute_result"
    }
   ],
   "source": [
    "is_palindrome('radar')"
   ]
  },
  {
   "cell_type": "code",
   "execution_count": 70,
   "metadata": {
    "collapsed": false
   },
   "outputs": [
    {
     "data": {
      "text/plain": [
       "False"
      ]
     },
     "execution_count": 70,
     "metadata": {},
     "output_type": "execute_result"
    }
   ],
   "source": [
    "is_palindrome('not a palindrome')"
   ]
  },
  {
   "cell_type": "code",
   "execution_count": 71,
   "metadata": {
    "collapsed": false
   },
   "outputs": [
    {
     "data": {
      "text/plain": [
       "'Your input was not a string. Please enter a string.'"
      ]
     },
     "execution_count": 71,
     "metadata": {},
     "output_type": "execute_result"
    }
   ],
   "source": [
    "is_palindrome(3)"
   ]
  },
  {
   "cell_type": "code",
   "execution_count": 72,
   "metadata": {
    "collapsed": false
   },
   "outputs": [
    {
     "data": {
      "text/plain": [
       "'You have entered an empty string.  Please enter a non-empty string.'"
      ]
     },
     "execution_count": 72,
     "metadata": {},
     "output_type": "execute_result"
    }
   ],
   "source": [
    "is_palindrome('')"
   ]
  },
  {
   "cell_type": "markdown",
   "metadata": {},
   "source": [
    "###Problem 10:\n"
   ]
  },
  {
   "cell_type": "code",
   "execution_count": 76,
   "metadata": {
    "collapsed": true
   },
   "outputs": [],
   "source": [
    "def is_member(value, list_of_values):\n",
    "    \"\"\"The is_member() function accepts a value and checks it against a list of values.\n",
    "    If the value is contained in the list of values, the function returns a True value\"\"\"\n",
    "    \n",
    "    # the first thing we do is make sure that we have received input that we can\n",
    "    # work with.  Our first arguement 'value' can be anything.  Our second arguement must\n",
    "    # be a list.\n",
    "    \n",
    "    if type(list_of_values) != list: \n",
    "        return ('Your second input was not a list.  Please enter a value and a list.')\n",
    "        \n",
    "    else:\n",
    "        \n",
    "    # we will initialize a variable as False and iterate through our list using a for loop.  If\n",
    "    # at some point we come across a value in the list that equals our initial value, we will\n",
    "    # change our boolean to True.\n",
    "    \n",
    "        output = False\n",
    "    \n",
    "        for element in list_of_values:\n",
    "            if value == element:\n",
    "                output = True\n",
    "        \n",
    "    # now that we have run through our list, we will return our output value\n",
    "    \n",
    "    return (output)\n",
    "        \n",
    "    "
   ]
  },
  {
   "cell_type": "code",
   "execution_count": 77,
   "metadata": {
    "collapsed": false
   },
   "outputs": [
    {
     "data": {
      "text/plain": [
       "'Your second input was not a list.  Please enter a value and a list.'"
      ]
     },
     "execution_count": 77,
     "metadata": {},
     "output_type": "execute_result"
    }
   ],
   "source": [
    "is_member(2,3)"
   ]
  },
  {
   "cell_type": "code",
   "execution_count": 78,
   "metadata": {
    "collapsed": false
   },
   "outputs": [
    {
     "data": {
      "text/plain": [
       "False"
      ]
     },
     "execution_count": 78,
     "metadata": {},
     "output_type": "execute_result"
    }
   ],
   "source": [
    "is_member(2,[3,'sean',{'a':345},[1,2,3,4],True])"
   ]
  },
  {
   "cell_type": "code",
   "execution_count": 79,
   "metadata": {
    "collapsed": false
   },
   "outputs": [
    {
     "data": {
      "text/plain": [
       "True"
      ]
     },
     "execution_count": 79,
     "metadata": {},
     "output_type": "execute_result"
    }
   ],
   "source": [
    "is_member([1,2,3,4],[3,'sean',{'a':345},[1,2,3,4],True])"
   ]
  },
  {
   "cell_type": "markdown",
   "metadata": {},
   "source": [
    "###Problem 11:\n"
   ]
  },
  {
   "cell_type": "code",
   "execution_count": 80,
   "metadata": {
    "collapsed": false
   },
   "outputs": [],
   "source": [
    "def overlapping(input1,input2):\n",
    "    \"\"\"The overlapping() function accepts two lists and compares them.  If they have at least\n",
    "    one element in common, the function will return a True value.\"\"\"\n",
    "    \n",
    "    # the first thing we do is make sure that we have received input that we can\n",
    "    # work with.  We need both arguements to be of type list.\n",
    "    \n",
    "    if type(input1) != list: \n",
    "        return ('Your first input was not a list.  Please enter two lists.')\n",
    "    \n",
    "    if type(input2) != list: \n",
    "        return ('Your second input was not a list.  Please enter two lists.')\n",
    "   \n",
    "    # we will initialize our truth variable as False and iterate through both lists using\n",
    "    # nested for loops.  If at somepoint, we come across two elements that are equal, we\n",
    "    # will change our truth variable to True\n",
    "\n",
    "    output = False\n",
    "    \n",
    "    for value1 in input1:\n",
    "        for value2 in input2:\n",
    "            if value2 == value1:\n",
    "                output = True\n",
    "                \n",
    "    return (output)\n",
    "\n",
    "\n",
    "\n",
    "           "
   ]
  },
  {
   "cell_type": "code",
   "execution_count": 81,
   "metadata": {
    "collapsed": false
   },
   "outputs": [
    {
     "data": {
      "text/plain": [
       "'Your second input was not a list.  Please enter two lists.'"
      ]
     },
     "execution_count": 81,
     "metadata": {},
     "output_type": "execute_result"
    }
   ],
   "source": [
    "overlapping([1,2,3],'sean')"
   ]
  },
  {
   "cell_type": "code",
   "execution_count": 82,
   "metadata": {
    "collapsed": false
   },
   "outputs": [
    {
     "data": {
      "text/plain": [
       "False"
      ]
     },
     "execution_count": 82,
     "metadata": {},
     "output_type": "execute_result"
    }
   ],
   "source": [
    "overlapping([1,2,3],[9,9,9,8,4,6,8,7,4,6,'sean',(1,2),[1,2,3],8])"
   ]
  },
  {
   "cell_type": "code",
   "execution_count": 83,
   "metadata": {
    "collapsed": false
   },
   "outputs": [
    {
     "data": {
      "text/plain": [
       "True"
      ]
     },
     "execution_count": 83,
     "metadata": {},
     "output_type": "execute_result"
    }
   ],
   "source": [
    "overlapping([1,2,3],[9,9,9,8,4,3,8,7,4,6,'sean',(1,2),[1,2,3],2])"
   ]
  },
  {
   "cell_type": "markdown",
   "metadata": {},
   "source": [
    "###Problem 12:\n"
   ]
  },
  {
   "cell_type": "code",
   "execution_count": 84,
   "metadata": {
    "collapsed": true
   },
   "outputs": [],
   "source": [
    "def generate_n_chars(n,c):\n",
    "    \"\"\"the generate_n_chars() function accepts a number n and a character c and returns\n",
    "    a string n characters long consisting of only c's.\"\"\"\n",
    "    \n",
    "    # the first thing we do is make sure that we have received input that we can\n",
    "    # work with.  We need n to be an int and c to be a string.\n",
    "    \n",
    "    if type(n) != int: \n",
    "        return ('Your first input was not an integer.  Please enter a positive number and a string')\n",
    "    else:\n",
    "        if n < 0:\n",
    "            return ('Your first input was negative.  Please enter a positive number and a string')\n",
    "    \n",
    "    if type(c) != str: \n",
    "        return ('Your second input was not a string.  Please enter a positive number and a string')\n",
    "    \n",
    "    \n",
    "    # we will use a for loop and the list(range(n)) functions to build up our string.  \n",
    "    # for example, if c = 's' and n = 5, list(range(n)) will create the list [0,1,2,3,4].\n",
    "    # this is a list that has length 5 so our for loop will execute 5 times.  We will\n",
    "    # start with an empty string output = '' and we will overwrite it everytime that we go\n",
    "    # through the loop\n",
    "    \n",
    "    output = ''\n",
    "    \n",
    "    for i in list(range(n)):\n",
    "        output = output + c\n",
    "    \n",
    "    return (output)\n",
    "    \n",
    "    "
   ]
  },
  {
   "cell_type": "code",
   "execution_count": 85,
   "metadata": {
    "collapsed": false
   },
   "outputs": [
    {
     "data": {
      "text/plain": [
       "'ssssssssssssssssssssssssssssssssssssssssssssssssssssssssssssssssssssssssssssssssssssssssssssssssssss'"
      ]
     },
     "execution_count": 85,
     "metadata": {},
     "output_type": "execute_result"
    }
   ],
   "source": [
    "generate_n_chars(100,'s')"
   ]
  },
  {
   "cell_type": "code",
   "execution_count": 86,
   "metadata": {
    "collapsed": false
   },
   "outputs": [
    {
     "data": {
      "text/plain": [
       "'Your first input was not an integer.  Please enter a positive number and a string'"
      ]
     },
     "execution_count": 86,
     "metadata": {},
     "output_type": "execute_result"
    }
   ],
   "source": [
    "generate_n_chars('s','s')"
   ]
  },
  {
   "cell_type": "code",
   "execution_count": 87,
   "metadata": {
    "collapsed": false
   },
   "outputs": [
    {
     "data": {
      "text/plain": [
       "'Your second input was not a string.  Please enter a positive number and a string'"
      ]
     },
     "execution_count": 87,
     "metadata": {},
     "output_type": "execute_result"
    }
   ],
   "source": [
    "generate_n_chars(5,5)"
   ]
  },
  {
   "cell_type": "code",
   "execution_count": 88,
   "metadata": {
    "collapsed": false
   },
   "outputs": [
    {
     "data": {
      "text/plain": [
       "''"
      ]
     },
     "execution_count": 88,
     "metadata": {},
     "output_type": "execute_result"
    }
   ],
   "source": [
    "generate_n_chars(0,'s')"
   ]
  },
  {
   "cell_type": "code",
   "execution_count": 89,
   "metadata": {
    "collapsed": false
   },
   "outputs": [
    {
     "data": {
      "text/plain": [
       "'Your first input was negative.  Please enter a positive number and a string'"
      ]
     },
     "execution_count": 89,
     "metadata": {},
     "output_type": "execute_result"
    }
   ],
   "source": [
    "generate_n_chars(-3,'s')"
   ]
  },
  {
   "cell_type": "code",
   "execution_count": null,
   "metadata": {
    "collapsed": true
   },
   "outputs": [],
   "source": []
  }
 ],
 "metadata": {
  "kernelspec": {
   "display_name": "Python 3",
   "language": "python",
   "name": "python3"
  },
  "language_info": {
   "codemirror_mode": {
    "name": "ipython",
    "version": 3
   },
   "file_extension": ".py",
   "mimetype": "text/x-python",
   "name": "python",
   "nbconvert_exporter": "python",
   "pygments_lexer": "ipython3",
   "version": "3.4.3"
  }
 },
 "nbformat": 4,
 "nbformat_minor": 0
}
