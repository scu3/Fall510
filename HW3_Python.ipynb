{
 "cells": [
  {
   "cell_type": "markdown",
   "metadata": {},
   "source": [
    "##Sean Underwood"
   ]
  },
  {
   "cell_type": "markdown",
   "metadata": {},
   "source": [
    "###Math 510\n"
   ]
  },
  {
   "cell_type": "markdown",
   "metadata": {},
   "source": [
    "###Homework 3"
   ]
  },
  {
   "cell_type": "markdown",
   "metadata": {},
   "source": [
    "###Problem 1:\n"
   ]
  },
  {
   "cell_type": "code",
   "execution_count": 148,
   "metadata": {
    "collapsed": true
   },
   "outputs": [],
   "source": [
    "def histogram(input):\n",
    "    \"\"\"The histogram(input) function accepts a list of integers and prints a histomgram \n",
    "    to the screen.\n",
    "    \n",
    "    Parameters:\n",
    "    input - a list of integers\"\"\"\n",
    "    \n",
    "    # we need to make sure that we received a list.  We choose to use exception handling to\n",
    "    # throw up errors when we receive the wrong input.  This way, if we use this function\n",
    "    # in later functions, we won't recveive unexepcted output.\n",
    "    \n",
    "    if type(input) != list:\n",
    "        raise TypeError('Your input was not a list.  Please enter a list of positive integers.')\n",
    "    \n",
    "    # we need to gurad against the scenario when we are give an empty list\n",
    "    \n",
    "    if input == []:\n",
    "        raise ValueError('You entered an empty list.  Please enter a list of positive integers')\n",
    "    \n",
    "    # we will iterate through the list to ensure that all the elements are integers\n",
    "    # we initialize a variable to True and will change it to False if we come across\n",
    "    # an element of different type.\n",
    "    are_integers = True\n",
    "    \n",
    "    for element in input:\n",
    "        if type(element) != int:\n",
    "            are_integers = False\n",
    "            \n",
    "    # now that our loop is finished we will test our variable to see if it found \n",
    "    # an element of type other than int\n",
    "    # the \\ allows us to continue our statement to the next line\n",
    "    \n",
    "    if are_integers == False:\n",
    "        raise TypeError('Your list contained an entry that was not an integer.  Please enter \\\n",
    "a list of positive integers')\n",
    "    \n",
    "    # now we will make sure that we received positive integers\n",
    "    are_positive = True\n",
    "    \n",
    "    for element in input:\n",
    "        if element < 0:\n",
    "            raise ValueError('Your list contained a negative integer.  Please enter a list \\\n",
    "of positive integers.')\n",
    "    \n",
    "    # now we will print our histogram using a for loop \n",
    "    \n",
    "    for element in input:\n",
    "        print (element*'*')\n",
    "    "
   ]
  },
  {
   "cell_type": "code",
   "execution_count": 149,
   "metadata": {
    "collapsed": false
   },
   "outputs": [
    {
     "ename": "TypeError",
     "evalue": "Your input was not a list.  Please enter a list of positive integers.",
     "output_type": "error",
     "traceback": [
      "\u001b[1;31m---------------------------------------------------------------------------\u001b[0m",
      "\u001b[1;31mTypeError\u001b[0m                                 Traceback (most recent call last)",
      "\u001b[1;32m<ipython-input-149-d13647be0d0c>\u001b[0m in \u001b[0;36m<module>\u001b[1;34m()\u001b[0m\n\u001b[1;32m----> 1\u001b[1;33m \u001b[0mhistogram\u001b[0m\u001b[1;33m(\u001b[0m\u001b[1;34m'k'\u001b[0m\u001b[1;33m)\u001b[0m\u001b[1;33m\u001b[0m\u001b[0m\n\u001b[0m",
      "\u001b[1;32m<ipython-input-148-bef7b2f64fd9>\u001b[0m in \u001b[0;36mhistogram\u001b[1;34m(input)\u001b[0m\n\u001b[0;32m     11\u001b[0m \u001b[1;33m\u001b[0m\u001b[0m\n\u001b[0;32m     12\u001b[0m     \u001b[1;32mif\u001b[0m \u001b[0mtype\u001b[0m\u001b[1;33m(\u001b[0m\u001b[0minput\u001b[0m\u001b[1;33m)\u001b[0m \u001b[1;33m!=\u001b[0m \u001b[0mlist\u001b[0m\u001b[1;33m:\u001b[0m\u001b[1;33m\u001b[0m\u001b[0m\n\u001b[1;32m---> 13\u001b[1;33m         \u001b[1;32mraise\u001b[0m \u001b[0mTypeError\u001b[0m\u001b[1;33m(\u001b[0m\u001b[1;34m'Your input was not a list.  Please enter a list of positive integers.'\u001b[0m\u001b[1;33m)\u001b[0m\u001b[1;33m\u001b[0m\u001b[0m\n\u001b[0m\u001b[0;32m     14\u001b[0m \u001b[1;33m\u001b[0m\u001b[0m\n\u001b[0;32m     15\u001b[0m     \u001b[1;31m# we need to gurad against the scenario when we are give an empty list\u001b[0m\u001b[1;33m\u001b[0m\u001b[1;33m\u001b[0m\u001b[0m\n",
      "\u001b[1;31mTypeError\u001b[0m: Your input was not a list.  Please enter a list of positive integers."
     ]
    }
   ],
   "source": [
    "histogram('k')"
   ]
  },
  {
   "cell_type": "code",
   "execution_count": 108,
   "metadata": {
    "collapsed": false
   },
   "outputs": [
    {
     "name": "stdout",
     "output_type": "stream",
     "text": [
      "**\n",
      "***\n",
      "****\n",
      "*****\n",
      "******\n",
      "*******\n",
      "******\n",
      "*****\n",
      "****\n",
      "***\n",
      "**\n"
     ]
    }
   ],
   "source": [
    "histogram([2,3,4,5,6,7,6,5,4,3,2])"
   ]
  },
  {
   "cell_type": "code",
   "execution_count": 152,
   "metadata": {
    "collapsed": false
   },
   "outputs": [
    {
     "ename": "ValueError",
     "evalue": "Your list contained a negative integer.  Please enter a list of positive integers.",
     "output_type": "error",
     "traceback": [
      "\u001b[1;31m---------------------------------------------------------------------------\u001b[0m",
      "\u001b[1;31mValueError\u001b[0m                                Traceback (most recent call last)",
      "\u001b[1;32m<ipython-input-152-6724b30c5990>\u001b[0m in \u001b[0;36m<module>\u001b[1;34m()\u001b[0m\n\u001b[1;32m----> 1\u001b[1;33m \u001b[0mhistogram\u001b[0m\u001b[1;33m(\u001b[0m\u001b[1;33m[\u001b[0m\u001b[1;36m2\u001b[0m\u001b[1;33m,\u001b[0m\u001b[1;36m3\u001b[0m\u001b[1;33m,\u001b[0m\u001b[1;36m4\u001b[0m\u001b[1;33m,\u001b[0m\u001b[1;36m5\u001b[0m\u001b[1;33m,\u001b[0m\u001b[1;36m6\u001b[0m\u001b[1;33m,\u001b[0m\u001b[1;36m7\u001b[0m\u001b[1;33m,\u001b[0m\u001b[1;33m-\u001b[0m\u001b[1;36m6\u001b[0m\u001b[1;33m,\u001b[0m\u001b[1;36m5\u001b[0m\u001b[1;33m,\u001b[0m\u001b[1;36m4\u001b[0m\u001b[1;33m,\u001b[0m\u001b[1;36m3\u001b[0m\u001b[1;33m,\u001b[0m\u001b[1;36m2\u001b[0m\u001b[1;33m]\u001b[0m\u001b[1;33m)\u001b[0m\u001b[1;33m\u001b[0m\u001b[0m\n\u001b[0m",
      "\u001b[1;32m<ipython-input-148-bef7b2f64fd9>\u001b[0m in \u001b[0;36mhistogram\u001b[1;34m(input)\u001b[0m\n\u001b[0;32m     39\u001b[0m     \u001b[1;32mfor\u001b[0m \u001b[0melement\u001b[0m \u001b[1;32min\u001b[0m \u001b[0minput\u001b[0m\u001b[1;33m:\u001b[0m\u001b[1;33m\u001b[0m\u001b[0m\n\u001b[0;32m     40\u001b[0m         \u001b[1;32mif\u001b[0m \u001b[0melement\u001b[0m \u001b[1;33m<\u001b[0m \u001b[1;36m0\u001b[0m\u001b[1;33m:\u001b[0m\u001b[1;33m\u001b[0m\u001b[0m\n\u001b[1;32m---> 41\u001b[1;33m             \u001b[1;32mraise\u001b[0m \u001b[0mValueError\u001b[0m\u001b[1;33m(\u001b[0m\u001b[1;34m'Your list contained a negative integer.  Please enter a list of positive integers.'\u001b[0m\u001b[1;33m)\u001b[0m\u001b[1;33m\u001b[0m\u001b[0m\n\u001b[0m\u001b[0;32m     42\u001b[0m \u001b[1;33m\u001b[0m\u001b[0m\n\u001b[0;32m     43\u001b[0m     \u001b[1;31m# now we will print our histogram using a for loop\u001b[0m\u001b[1;33m\u001b[0m\u001b[1;33m\u001b[0m\u001b[0m\n",
      "\u001b[1;31mValueError\u001b[0m: Your list contained a negative integer.  Please enter a list of positive integers."
     ]
    }
   ],
   "source": [
    "histogram([2,3,4,5,6,7,-6,5,4,3,2])"
   ]
  },
  {
   "cell_type": "code",
   "execution_count": 150,
   "metadata": {
    "collapsed": false
   },
   "outputs": [
    {
     "ename": "TypeError",
     "evalue": "Your list contained an entry that was not an integer.  Please enter a list of positive integers",
     "output_type": "error",
     "traceback": [
      "\u001b[1;31m---------------------------------------------------------------------------\u001b[0m",
      "\u001b[1;31mTypeError\u001b[0m                                 Traceback (most recent call last)",
      "\u001b[1;32m<ipython-input-150-bb8b4be23358>\u001b[0m in \u001b[0;36m<module>\u001b[1;34m()\u001b[0m\n\u001b[1;32m----> 1\u001b[1;33m \u001b[0mhistogram\u001b[0m\u001b[1;33m(\u001b[0m\u001b[1;33m[\u001b[0m\u001b[1;34m's'\u001b[0m\u001b[1;33m]\u001b[0m\u001b[1;33m)\u001b[0m\u001b[1;33m\u001b[0m\u001b[0m\n\u001b[0m",
      "\u001b[1;32m<ipython-input-148-bef7b2f64fd9>\u001b[0m in \u001b[0;36mhistogram\u001b[1;34m(input)\u001b[0m\n\u001b[0;32m     32\u001b[0m \u001b[1;33m\u001b[0m\u001b[0m\n\u001b[0;32m     33\u001b[0m     \u001b[1;32mif\u001b[0m \u001b[0mare_integers\u001b[0m \u001b[1;33m==\u001b[0m \u001b[1;32mFalse\u001b[0m\u001b[1;33m:\u001b[0m\u001b[1;33m\u001b[0m\u001b[0m\n\u001b[1;32m---> 34\u001b[1;33m         \u001b[1;32mraise\u001b[0m \u001b[0mTypeError\u001b[0m\u001b[1;33m(\u001b[0m\u001b[1;34m'Your list contained an entry that was not an integer.  Please enter a list of positive integers'\u001b[0m\u001b[1;33m)\u001b[0m\u001b[1;33m\u001b[0m\u001b[0m\n\u001b[0m\u001b[0;32m     35\u001b[0m \u001b[1;33m\u001b[0m\u001b[0m\n\u001b[0;32m     36\u001b[0m     \u001b[1;31m# now we will make sure that we received positive integers\u001b[0m\u001b[1;33m\u001b[0m\u001b[1;33m\u001b[0m\u001b[0m\n",
      "\u001b[1;31mTypeError\u001b[0m: Your list contained an entry that was not an integer.  Please enter a list of positive integers"
     ]
    }
   ],
   "source": [
    "histogram(['s'])"
   ]
  },
  {
   "cell_type": "code",
   "execution_count": 151,
   "metadata": {
    "collapsed": false
   },
   "outputs": [
    {
     "ename": "ValueError",
     "evalue": "You entered an empty list.  Please enter a list of positive integers",
     "output_type": "error",
     "traceback": [
      "\u001b[1;31m---------------------------------------------------------------------------\u001b[0m",
      "\u001b[1;31mValueError\u001b[0m                                Traceback (most recent call last)",
      "\u001b[1;32m<ipython-input-151-3769f6a26225>\u001b[0m in \u001b[0;36m<module>\u001b[1;34m()\u001b[0m\n\u001b[1;32m----> 1\u001b[1;33m \u001b[0mhistogram\u001b[0m\u001b[1;33m(\u001b[0m\u001b[1;33m[\u001b[0m\u001b[1;33m]\u001b[0m\u001b[1;33m)\u001b[0m\u001b[1;33m\u001b[0m\u001b[0m\n\u001b[0m",
      "\u001b[1;32m<ipython-input-148-bef7b2f64fd9>\u001b[0m in \u001b[0;36mhistogram\u001b[1;34m(input)\u001b[0m\n\u001b[0;32m     16\u001b[0m \u001b[1;33m\u001b[0m\u001b[0m\n\u001b[0;32m     17\u001b[0m     \u001b[1;32mif\u001b[0m \u001b[0minput\u001b[0m \u001b[1;33m==\u001b[0m \u001b[1;33m[\u001b[0m\u001b[1;33m]\u001b[0m\u001b[1;33m:\u001b[0m\u001b[1;33m\u001b[0m\u001b[0m\n\u001b[1;32m---> 18\u001b[1;33m         \u001b[1;32mraise\u001b[0m \u001b[0mValueError\u001b[0m\u001b[1;33m(\u001b[0m\u001b[1;34m'You entered an empty list.  Please enter a list of positive integers'\u001b[0m\u001b[1;33m)\u001b[0m\u001b[1;33m\u001b[0m\u001b[0m\n\u001b[0m\u001b[0;32m     19\u001b[0m \u001b[1;33m\u001b[0m\u001b[0m\n\u001b[0;32m     20\u001b[0m     \u001b[1;31m# we will iterate through the list to ensure that all the elements are integers\u001b[0m\u001b[1;33m\u001b[0m\u001b[1;33m\u001b[0m\u001b[0m\n",
      "\u001b[1;31mValueError\u001b[0m: You entered an empty list.  Please enter a list of positive integers"
     ]
    }
   ],
   "source": [
    "histogram([])"
   ]
  },
  {
   "cell_type": "code",
   "execution_count": 105,
   "metadata": {
    "collapsed": false
   },
   "outputs": [
    {
     "name": "stdout",
     "output_type": "stream",
     "text": [
      "Help on function histogram in module __main__:\n",
      "\n",
      "histogram(input)\n",
      "    The histogram(input) function accepts a list of integers and prints a histomgram \n",
      "    to the screen.\n",
      "    \n",
      "    Parameters:\n",
      "    input - a list of integers\n",
      "\n"
     ]
    }
   ],
   "source": [
    "help(histogram)"
   ]
  },
  {
   "cell_type": "markdown",
   "metadata": {},
   "source": [
    "###Problem 2:\n"
   ]
  },
  {
   "cell_type": "code",
   "execution_count": 154,
   "metadata": {
    "collapsed": true
   },
   "outputs": [],
   "source": [
    "def max_in_list(input):\n",
    "    \"\"\"max_in_list(input) accepts a list of numbers and returns the largest value in the list.\n",
    "    \n",
    "    Parameters:\n",
    "    \n",
    "    input - A list of numbers.  Can be either type int or float\"\"\"\n",
    "    # we will use exception handling to notify us of incorrect input.  This way future \n",
    "    # functions do not receive unexpected output from this function.\n",
    "    # we need to make sure that we received a list\n",
    "    \n",
    "    if type(input) != list:\n",
    "        raise TypeError('Your input was not a list.  Please enter a list of numbers.')\n",
    "\n",
    "    # we need to gurad against the scenario when we are give an empty list\n",
    "    \n",
    "    if input == []:\n",
    "        raise ValueError('You entered an empty list.  Please enter a list of numbers')\n",
    "    \n",
    "    # we will iterate through the list to ensure that all the elements are numbers\n",
    "    # we initialize a variable to True and will change it to False if we come across\n",
    "    # an element of different type.\n",
    "    are_numbers = True\n",
    "    \n",
    "    for element in input:\n",
    "        if type(element) != int and type(element) != float:\n",
    "            are_numbers = False\n",
    "            \n",
    "    # now that our loop is finished we will test our variable to see if it found \n",
    "    # an element of type other than int or a float\n",
    "    # the \\ allows us to continue our statement to the next line\n",
    "    \n",
    "    if are_numbers == False:\n",
    "        raise TypeError('Your list contained an entry that was not an number.  Please enter \\\n",
    "a list of numbers.')\n",
    "    \n",
    "    # our strategy is to assume that the first number is the largest and assign it to \n",
    "    # a variable max_value = input[0].  Then we will iterate through our list and update\n",
    "    # the max value if we come across a value that is larger.\n",
    "    \n",
    "    max_value = input[0]\n",
    "    for element in input:\n",
    "        if element > max_value:\n",
    "            max_value = element\n",
    "    \n",
    "    return (max_value)\n",
    "    "
   ]
  },
  {
   "cell_type": "code",
   "execution_count": 110,
   "metadata": {
    "collapsed": false
   },
   "outputs": [
    {
     "name": "stdout",
     "output_type": "stream",
     "text": [
      "Help on function max_in_list in module __main__:\n",
      "\n",
      "max_in_list(input)\n",
      "    max_in_list(input) accepts a list of numbers and returns the largest value in the list.\n",
      "    \n",
      "    Parameters:\n",
      "    \n",
      "    input - A list of numbers.  Can be either type int or float\n",
      "\n"
     ]
    }
   ],
   "source": [
    "help(max_in_list)"
   ]
  },
  {
   "cell_type": "code",
   "execution_count": 155,
   "metadata": {
    "collapsed": false
   },
   "outputs": [
    {
     "ename": "TypeError",
     "evalue": "Your list contained an entry that was not an number.  Please enter a list of numbers.",
     "output_type": "error",
     "traceback": [
      "\u001b[1;31m---------------------------------------------------------------------------\u001b[0m",
      "\u001b[1;31mTypeError\u001b[0m                                 Traceback (most recent call last)",
      "\u001b[1;32m<ipython-input-155-f75946328df8>\u001b[0m in \u001b[0;36m<module>\u001b[1;34m()\u001b[0m\n\u001b[1;32m----> 1\u001b[1;33m \u001b[0mmax_in_list\u001b[0m\u001b[1;33m(\u001b[0m\u001b[1;33m[\u001b[0m\u001b[1;36m1\u001b[0m\u001b[1;33m,\u001b[0m\u001b[1;36m1.1\u001b[0m\u001b[1;33m,\u001b[0m\u001b[1;33m-\u001b[0m\u001b[1;36m5\u001b[0m\u001b[1;33m,\u001b[0m\u001b[1;34m's'\u001b[0m\u001b[1;33m]\u001b[0m\u001b[1;33m)\u001b[0m\u001b[1;33m\u001b[0m\u001b[0m\n\u001b[0m",
      "\u001b[1;32m<ipython-input-154-6ffbfe2cbd43>\u001b[0m in \u001b[0;36mmax_in_list\u001b[1;34m(input)\u001b[0m\n\u001b[0;32m     31\u001b[0m \u001b[1;33m\u001b[0m\u001b[0m\n\u001b[0;32m     32\u001b[0m     \u001b[1;32mif\u001b[0m \u001b[0mare_numbers\u001b[0m \u001b[1;33m==\u001b[0m \u001b[1;32mFalse\u001b[0m\u001b[1;33m:\u001b[0m\u001b[1;33m\u001b[0m\u001b[0m\n\u001b[1;32m---> 33\u001b[1;33m         \u001b[1;32mraise\u001b[0m \u001b[0mTypeError\u001b[0m\u001b[1;33m(\u001b[0m\u001b[1;34m'Your list contained an entry that was not an number.  Please enter a list of numbers.'\u001b[0m\u001b[1;33m)\u001b[0m\u001b[1;33m\u001b[0m\u001b[0m\n\u001b[0m\u001b[0;32m     34\u001b[0m \u001b[1;33m\u001b[0m\u001b[0m\n\u001b[0;32m     35\u001b[0m     \u001b[1;31m# our strategy is to assume that the first number is the largest and assign it to\u001b[0m\u001b[1;33m\u001b[0m\u001b[1;33m\u001b[0m\u001b[0m\n",
      "\u001b[1;31mTypeError\u001b[0m: Your list contained an entry that was not an number.  Please enter a list of numbers."
     ]
    }
   ],
   "source": [
    "max_in_list([1,1.1,-5,'s'])"
   ]
  },
  {
   "cell_type": "code",
   "execution_count": 156,
   "metadata": {
    "collapsed": false
   },
   "outputs": [
    {
     "ename": "TypeError",
     "evalue": "Your input was not a list.  Please enter a list of numbers.",
     "output_type": "error",
     "traceback": [
      "\u001b[1;31m---------------------------------------------------------------------------\u001b[0m",
      "\u001b[1;31mTypeError\u001b[0m                                 Traceback (most recent call last)",
      "\u001b[1;32m<ipython-input-156-bbb769f442e9>\u001b[0m in \u001b[0;36m<module>\u001b[1;34m()\u001b[0m\n\u001b[1;32m----> 1\u001b[1;33m \u001b[0mmax_in_list\u001b[0m\u001b[1;33m(\u001b[0m\u001b[1;34m's'\u001b[0m\u001b[1;33m)\u001b[0m\u001b[1;33m\u001b[0m\u001b[0m\n\u001b[0m",
      "\u001b[1;32m<ipython-input-154-6ffbfe2cbd43>\u001b[0m in \u001b[0;36mmax_in_list\u001b[1;34m(input)\u001b[0m\n\u001b[0;32m     10\u001b[0m \u001b[1;33m\u001b[0m\u001b[0m\n\u001b[0;32m     11\u001b[0m     \u001b[1;32mif\u001b[0m \u001b[0mtype\u001b[0m\u001b[1;33m(\u001b[0m\u001b[0minput\u001b[0m\u001b[1;33m)\u001b[0m \u001b[1;33m!=\u001b[0m \u001b[0mlist\u001b[0m\u001b[1;33m:\u001b[0m\u001b[1;33m\u001b[0m\u001b[0m\n\u001b[1;32m---> 12\u001b[1;33m         \u001b[1;32mraise\u001b[0m \u001b[0mTypeError\u001b[0m\u001b[1;33m(\u001b[0m\u001b[1;34m'Your input was not a list.  Please enter a list of numbers.'\u001b[0m\u001b[1;33m)\u001b[0m\u001b[1;33m\u001b[0m\u001b[0m\n\u001b[0m\u001b[0;32m     13\u001b[0m \u001b[1;33m\u001b[0m\u001b[0m\n\u001b[0;32m     14\u001b[0m     \u001b[1;31m# we need to gurad against the scenario when we are give an empty list\u001b[0m\u001b[1;33m\u001b[0m\u001b[1;33m\u001b[0m\u001b[0m\n",
      "\u001b[1;31mTypeError\u001b[0m: Your input was not a list.  Please enter a list of numbers."
     ]
    }
   ],
   "source": [
    "max_in_list('s')"
   ]
  },
  {
   "cell_type": "code",
   "execution_count": 157,
   "metadata": {
    "collapsed": false
   },
   "outputs": [
    {
     "ename": "ValueError",
     "evalue": "You entered an empty list.  Please enter a list of numbers",
     "output_type": "error",
     "traceback": [
      "\u001b[1;31m---------------------------------------------------------------------------\u001b[0m",
      "\u001b[1;31mValueError\u001b[0m                                Traceback (most recent call last)",
      "\u001b[1;32m<ipython-input-157-3b7509aa3fc8>\u001b[0m in \u001b[0;36m<module>\u001b[1;34m()\u001b[0m\n\u001b[1;32m----> 1\u001b[1;33m \u001b[0mmax_in_list\u001b[0m\u001b[1;33m(\u001b[0m\u001b[1;33m[\u001b[0m\u001b[1;33m]\u001b[0m\u001b[1;33m)\u001b[0m\u001b[1;33m\u001b[0m\u001b[0m\n\u001b[0m",
      "\u001b[1;32m<ipython-input-154-6ffbfe2cbd43>\u001b[0m in \u001b[0;36mmax_in_list\u001b[1;34m(input)\u001b[0m\n\u001b[0;32m     15\u001b[0m \u001b[1;33m\u001b[0m\u001b[0m\n\u001b[0;32m     16\u001b[0m     \u001b[1;32mif\u001b[0m \u001b[0minput\u001b[0m \u001b[1;33m==\u001b[0m \u001b[1;33m[\u001b[0m\u001b[1;33m]\u001b[0m\u001b[1;33m:\u001b[0m\u001b[1;33m\u001b[0m\u001b[0m\n\u001b[1;32m---> 17\u001b[1;33m         \u001b[1;32mraise\u001b[0m \u001b[0mValueError\u001b[0m\u001b[1;33m(\u001b[0m\u001b[1;34m'You entered an empty list.  Please enter a list of numbers'\u001b[0m\u001b[1;33m)\u001b[0m\u001b[1;33m\u001b[0m\u001b[0m\n\u001b[0m\u001b[0;32m     18\u001b[0m \u001b[1;33m\u001b[0m\u001b[0m\n\u001b[0;32m     19\u001b[0m     \u001b[1;31m# we will iterate through the list to ensure that all the elements are numbers\u001b[0m\u001b[1;33m\u001b[0m\u001b[1;33m\u001b[0m\u001b[0m\n",
      "\u001b[1;31mValueError\u001b[0m: You entered an empty list.  Please enter a list of numbers"
     ]
    }
   ],
   "source": [
    "max_in_list([])"
   ]
  },
  {
   "cell_type": "code",
   "execution_count": 114,
   "metadata": {
    "collapsed": false
   },
   "outputs": [
    {
     "data": {
      "text/plain": [
       "1"
      ]
     },
     "execution_count": 114,
     "metadata": {},
     "output_type": "execute_result"
    }
   ],
   "source": [
    "max_in_list([0,-5000,1,-90,0])"
   ]
  },
  {
   "cell_type": "markdown",
   "metadata": {},
   "source": [
    "###Problem 3:\n"
   ]
  },
  {
   "cell_type": "code",
   "execution_count": 158,
   "metadata": {
    "collapsed": false
   },
   "outputs": [],
   "source": [
    "def words_to_numbers(input):\n",
    "    \"\"\"words_to_numbers(input) is a function that maps a list of words into a list of numbers\n",
    "    representing the length of each word\n",
    "\n",
    "    Parameters:\n",
    "    \n",
    "    input- A list of words.  Each element of the list must be a string.\n",
    "\"\"\"\n",
    "    # we will use exception handling to notify us of incorrect input.  This way future \n",
    "    # functions do not receive unexpected output from this function.    \n",
    "    # we need to make sure that we received a list\n",
    "    \n",
    "    if type(input) != list:\n",
    "        raise TypeError('Your input was not a list.  Please enter a list of words.')\n",
    "\n",
    "    # we need to gurad against the scenario when we are give an empty list\n",
    "    \n",
    "    if input == []:\n",
    "        raise ValueError('You entered an empty list.  Please enter a list of words')\n",
    "    \n",
    "    # we will iterate through the list to ensure that all the elements are words\n",
    "    # we initialize a variable to True and will change it to False if we come across\n",
    "    # an element of different type.\n",
    "    are_words = True\n",
    "    \n",
    "    for element in input:\n",
    "        if type(element) != str:\n",
    "            are_words = False\n",
    "            \n",
    "    # now that our loop is finished we will test our variable to see if it found \n",
    "    # an element of type other than str\n",
    "    # the \\ allows us to continue our statement to the next line\n",
    "    \n",
    "    if are_words == False:\n",
    "        raise TypeError('Your list contained an entry that was not a word.  Please enter \\\n",
    "a list of words.')    \n",
    "    \n",
    "    # now that we have a list of words, we will iterate through the list and measure\n",
    "    # the lenght of each word using the len function.  We will initialize an empty\n",
    "    # list and fill the list with the lengths of our words.  Our resulting list\n",
    "    # will be an ordered list of numbers representing the lenght of the words\n",
    "    # in our input list from left to right\n",
    "    \n",
    "    word_length_list=[]\n",
    "    \n",
    "    for word in input:\n",
    "        word_length_list.append(len(word))\n",
    "    \n",
    "    return(word_length_list)"
   ]
  },
  {
   "cell_type": "code",
   "execution_count": 117,
   "metadata": {
    "collapsed": false
   },
   "outputs": [
    {
     "name": "stdout",
     "output_type": "stream",
     "text": [
      "Help on function words_to_numbers in module __main__:\n",
      "\n",
      "words_to_numbers(input)\n",
      "    words_to_numbers(input) is a function that maps a list of words into a list of numbers\n",
      "    representing the length of each word\n",
      "    \n",
      "    Parameters:\n",
      "    \n",
      "    input- A list of words.  Each element of the list must be a string.\n",
      "\n"
     ]
    }
   ],
   "source": [
    "help(words_to_numbers)"
   ]
  },
  {
   "cell_type": "code",
   "execution_count": 118,
   "metadata": {
    "collapsed": false
   },
   "outputs": [
    {
     "data": {
      "text/plain": [
       "[3, 4, 2, 4, 4, 0, 14]"
      ]
     },
     "execution_count": 118,
     "metadata": {},
     "output_type": "execute_result"
    }
   ],
   "source": [
    "words_to_numbers(['how','long','is','each','word','','3,4,2,4,4,0,14'])"
   ]
  },
  {
   "cell_type": "code",
   "execution_count": 159,
   "metadata": {
    "collapsed": false
   },
   "outputs": [
    {
     "ename": "TypeError",
     "evalue": "Your input was not a list.  Please enter a list of words.",
     "output_type": "error",
     "traceback": [
      "\u001b[1;31m---------------------------------------------------------------------------\u001b[0m",
      "\u001b[1;31mTypeError\u001b[0m                                 Traceback (most recent call last)",
      "\u001b[1;32m<ipython-input-159-2d505a530416>\u001b[0m in \u001b[0;36m<module>\u001b[1;34m()\u001b[0m\n\u001b[1;32m----> 1\u001b[1;33m \u001b[0mwords_to_numbers\u001b[0m\u001b[1;33m(\u001b[0m\u001b[1;34m'5'\u001b[0m\u001b[1;33m)\u001b[0m\u001b[1;33m\u001b[0m\u001b[0m\n\u001b[0m",
      "\u001b[1;32m<ipython-input-158-438942d154f6>\u001b[0m in \u001b[0;36mwords_to_numbers\u001b[1;34m(input)\u001b[0m\n\u001b[0;32m     12\u001b[0m \u001b[1;33m\u001b[0m\u001b[0m\n\u001b[0;32m     13\u001b[0m     \u001b[1;32mif\u001b[0m \u001b[0mtype\u001b[0m\u001b[1;33m(\u001b[0m\u001b[0minput\u001b[0m\u001b[1;33m)\u001b[0m \u001b[1;33m!=\u001b[0m \u001b[0mlist\u001b[0m\u001b[1;33m:\u001b[0m\u001b[1;33m\u001b[0m\u001b[0m\n\u001b[1;32m---> 14\u001b[1;33m         \u001b[1;32mraise\u001b[0m \u001b[0mTypeError\u001b[0m\u001b[1;33m(\u001b[0m\u001b[1;34m'Your input was not a list.  Please enter a list of words.'\u001b[0m\u001b[1;33m)\u001b[0m\u001b[1;33m\u001b[0m\u001b[0m\n\u001b[0m\u001b[0;32m     15\u001b[0m \u001b[1;33m\u001b[0m\u001b[0m\n\u001b[0;32m     16\u001b[0m     \u001b[1;31m# we need to gurad against the scenario when we are give an empty list\u001b[0m\u001b[1;33m\u001b[0m\u001b[1;33m\u001b[0m\u001b[0m\n",
      "\u001b[1;31mTypeError\u001b[0m: Your input was not a list.  Please enter a list of words."
     ]
    }
   ],
   "source": [
    "words_to_numbers('5')"
   ]
  },
  {
   "cell_type": "code",
   "execution_count": 160,
   "metadata": {
    "collapsed": false
   },
   "outputs": [
    {
     "ename": "TypeError",
     "evalue": "Your list contained an entry that was not a word.  Please enter a list of words.",
     "output_type": "error",
     "traceback": [
      "\u001b[1;31m---------------------------------------------------------------------------\u001b[0m",
      "\u001b[1;31mTypeError\u001b[0m                                 Traceback (most recent call last)",
      "\u001b[1;32m<ipython-input-160-d51db669b0b7>\u001b[0m in \u001b[0;36m<module>\u001b[1;34m()\u001b[0m\n\u001b[1;32m----> 1\u001b[1;33m \u001b[0mwords_to_numbers\u001b[0m\u001b[1;33m(\u001b[0m\u001b[1;33m[\u001b[0m\u001b[1;36m5\u001b[0m\u001b[1;33m]\u001b[0m\u001b[1;33m)\u001b[0m\u001b[1;33m\u001b[0m\u001b[0m\n\u001b[0m",
      "\u001b[1;32m<ipython-input-158-438942d154f6>\u001b[0m in \u001b[0;36mwords_to_numbers\u001b[1;34m(input)\u001b[0m\n\u001b[0;32m     33\u001b[0m \u001b[1;33m\u001b[0m\u001b[0m\n\u001b[0;32m     34\u001b[0m     \u001b[1;32mif\u001b[0m \u001b[0mare_words\u001b[0m \u001b[1;33m==\u001b[0m \u001b[1;32mFalse\u001b[0m\u001b[1;33m:\u001b[0m\u001b[1;33m\u001b[0m\u001b[0m\n\u001b[1;32m---> 35\u001b[1;33m         \u001b[1;32mraise\u001b[0m \u001b[0mTypeError\u001b[0m\u001b[1;33m(\u001b[0m\u001b[1;34m'Your list contained an entry that was not a word.  Please enter a list of words.'\u001b[0m\u001b[1;33m)\u001b[0m\u001b[1;33m\u001b[0m\u001b[0m\n\u001b[0m\u001b[0;32m     36\u001b[0m \u001b[1;33m\u001b[0m\u001b[0m\n\u001b[0;32m     37\u001b[0m     \u001b[1;31m# now that we have a list of words, we will iterate through the list and measure\u001b[0m\u001b[1;33m\u001b[0m\u001b[1;33m\u001b[0m\u001b[0m\n",
      "\u001b[1;31mTypeError\u001b[0m: Your list contained an entry that was not a word.  Please enter a list of words."
     ]
    }
   ],
   "source": [
    "words_to_numbers([5])"
   ]
  },
  {
   "cell_type": "code",
   "execution_count": 161,
   "metadata": {
    "collapsed": false
   },
   "outputs": [
    {
     "ename": "ValueError",
     "evalue": "You entered an empty list.  Please enter a list of words",
     "output_type": "error",
     "traceback": [
      "\u001b[1;31m---------------------------------------------------------------------------\u001b[0m",
      "\u001b[1;31mValueError\u001b[0m                                Traceback (most recent call last)",
      "\u001b[1;32m<ipython-input-161-9a3312c2c0fc>\u001b[0m in \u001b[0;36m<module>\u001b[1;34m()\u001b[0m\n\u001b[1;32m----> 1\u001b[1;33m \u001b[0mwords_to_numbers\u001b[0m\u001b[1;33m(\u001b[0m\u001b[1;33m[\u001b[0m\u001b[1;33m]\u001b[0m\u001b[1;33m)\u001b[0m\u001b[1;33m\u001b[0m\u001b[0m\n\u001b[0m",
      "\u001b[1;32m<ipython-input-158-438942d154f6>\u001b[0m in \u001b[0;36mwords_to_numbers\u001b[1;34m(input)\u001b[0m\n\u001b[0;32m     17\u001b[0m \u001b[1;33m\u001b[0m\u001b[0m\n\u001b[0;32m     18\u001b[0m     \u001b[1;32mif\u001b[0m \u001b[0minput\u001b[0m \u001b[1;33m==\u001b[0m \u001b[1;33m[\u001b[0m\u001b[1;33m]\u001b[0m\u001b[1;33m:\u001b[0m\u001b[1;33m\u001b[0m\u001b[0m\n\u001b[1;32m---> 19\u001b[1;33m         \u001b[1;32mraise\u001b[0m \u001b[0mValueError\u001b[0m\u001b[1;33m(\u001b[0m\u001b[1;34m'You entered an empty list.  Please enter a list of words'\u001b[0m\u001b[1;33m)\u001b[0m\u001b[1;33m\u001b[0m\u001b[0m\n\u001b[0m\u001b[0;32m     20\u001b[0m \u001b[1;33m\u001b[0m\u001b[0m\n\u001b[0;32m     21\u001b[0m     \u001b[1;31m# we will iterate through the list to ensure that all the elements are words\u001b[0m\u001b[1;33m\u001b[0m\u001b[1;33m\u001b[0m\u001b[0m\n",
      "\u001b[1;31mValueError\u001b[0m: You entered an empty list.  Please enter a list of words"
     ]
    }
   ],
   "source": [
    "words_to_numbers([])"
   ]
  },
  {
   "cell_type": "markdown",
   "metadata": {},
   "source": [
    "###Problem 4:"
   ]
  },
  {
   "cell_type": "code",
   "execution_count": 162,
   "metadata": {
    "collapsed": true
   },
   "outputs": [],
   "source": [
    "def longest_word(input):\n",
    "    \"\"\"longest_word(input) takes a list of words and returns the length of the longest word.\n",
    "    \n",
    "    Parameters:\n",
    "    \n",
    "    input - A list of words.  Each element of the list must be a string.\"\"\"\n",
    "    # we will use exception handling to notify us of incorrect input.  This way future \n",
    "    # functions do not receive unexpected output from this function.\n",
    "    \n",
    "    # we are going to use our word_to_number() fuction but we could get some unexpected\n",
    "    # results if we let it do our defensive programming for us.  Just to be thorough\n",
    "    # we will make sure that we have good input here.\n",
    "\n",
    "    # we need to make sure that we received a list\n",
    "    \n",
    "    if type(input) != list:\n",
    "        raise TypeError('Your input was not a list.  Please enter a list of words.')\n",
    "\n",
    "    # we need to guard against the scenario when we are give an empty list\n",
    "    \n",
    "    if input == []:\n",
    "        raise ValueError('You entered an empty list.  Please enter a list of words')\n",
    "    \n",
    "    # we will iterate through the list to ensure that all the elements are words\n",
    "    # we initialize a variable to True and will change it to False if we come across\n",
    "    # an element of different type.\n",
    "    are_words = True\n",
    "    \n",
    "    for element in input:\n",
    "        if type(element) != str:\n",
    "            are_words = False\n",
    "            \n",
    "    # now that our loop is finished we will test our variable to see if it found \n",
    "    # an element of type other than str\n",
    "    # the \\ allows us to continue our statement to the next line\n",
    "    \n",
    "    if are_words == False:\n",
    "        raise TypeError('Your list contained an entry that was not a word.  Please enter \\\n",
    "a list of words.') \n",
    "    \n",
    "    \n",
    "  \n",
    "    # we assign a variable to the function output so we can store it and work \n",
    "    # with it inside of this function\n",
    "    \n",
    "    word_length_list = words_to_numbers(input)\n",
    "    \n",
    "    # now we are going to take advantage of our max_in_list function\n",
    "    \n",
    "    answer = max_in_list(word_length_list)\n",
    "    \n",
    "    return(answer)"
   ]
  },
  {
   "cell_type": "code",
   "execution_count": 163,
   "metadata": {
    "collapsed": false
   },
   "outputs": [
    {
     "name": "stdout",
     "output_type": "stream",
     "text": [
      "Help on function longest_word in module __main__:\n",
      "\n",
      "longest_word(input)\n",
      "    longest_word(input) takes a list of words and returns the length of the longest word.\n",
      "    \n",
      "    Parameters:\n",
      "    \n",
      "    input - A list of words.  Each element of the list must be a string.\n",
      "\n"
     ]
    }
   ],
   "source": [
    "help(longest_word)"
   ]
  },
  {
   "cell_type": "code",
   "execution_count": 164,
   "metadata": {
    "collapsed": false
   },
   "outputs": [
    {
     "data": {
      "text/plain": [
       "14"
      ]
     },
     "execution_count": 164,
     "metadata": {},
     "output_type": "execute_result"
    }
   ],
   "source": [
    "longest_word(['how','long','is','each','word','','3,4,2,4,4,0,14'])"
   ]
  },
  {
   "cell_type": "code",
   "execution_count": 165,
   "metadata": {
    "collapsed": false
   },
   "outputs": [
    {
     "ename": "TypeError",
     "evalue": "Your list contained an entry that was not a word.  Please enter a list of words.",
     "output_type": "error",
     "traceback": [
      "\u001b[1;31m---------------------------------------------------------------------------\u001b[0m",
      "\u001b[1;31mTypeError\u001b[0m                                 Traceback (most recent call last)",
      "\u001b[1;32m<ipython-input-165-0b60b6594da0>\u001b[0m in \u001b[0;36m<module>\u001b[1;34m()\u001b[0m\n\u001b[1;32m----> 1\u001b[1;33m \u001b[0mlongest_word\u001b[0m\u001b[1;33m(\u001b[0m\u001b[1;33m[\u001b[0m\u001b[1;34m'how'\u001b[0m\u001b[1;33m,\u001b[0m\u001b[1;36m5\u001b[0m\u001b[1;33m,\u001b[0m\u001b[1;34m'is'\u001b[0m\u001b[1;33m,\u001b[0m\u001b[1;34m'each'\u001b[0m\u001b[1;33m,\u001b[0m\u001b[1;34m'word'\u001b[0m\u001b[1;33m,\u001b[0m\u001b[1;34m''\u001b[0m\u001b[1;33m,\u001b[0m\u001b[1;34m'3,4,2,4,4,0,14'\u001b[0m\u001b[1;33m]\u001b[0m\u001b[1;33m)\u001b[0m\u001b[1;33m\u001b[0m\u001b[0m\n\u001b[0m",
      "\u001b[1;32m<ipython-input-162-4c3043397665>\u001b[0m in \u001b[0;36mlongest_word\u001b[1;34m(input)\u001b[0m\n\u001b[0;32m     36\u001b[0m \u001b[1;33m\u001b[0m\u001b[0m\n\u001b[0;32m     37\u001b[0m     \u001b[1;32mif\u001b[0m \u001b[0mare_words\u001b[0m \u001b[1;33m==\u001b[0m \u001b[1;32mFalse\u001b[0m\u001b[1;33m:\u001b[0m\u001b[1;33m\u001b[0m\u001b[0m\n\u001b[1;32m---> 38\u001b[1;33m         \u001b[1;32mraise\u001b[0m \u001b[0mTypeError\u001b[0m\u001b[1;33m(\u001b[0m\u001b[1;34m'Your list contained an entry that was not a word.  Please enter a list of words.'\u001b[0m\u001b[1;33m)\u001b[0m\u001b[1;33m\u001b[0m\u001b[0m\n\u001b[0m\u001b[0;32m     39\u001b[0m \u001b[1;33m\u001b[0m\u001b[0m\n\u001b[0;32m     40\u001b[0m \u001b[1;33m\u001b[0m\u001b[0m\n",
      "\u001b[1;31mTypeError\u001b[0m: Your list contained an entry that was not a word.  Please enter a list of words."
     ]
    }
   ],
   "source": [
    "longest_word(['how',5,'is','each','word','','3,4,2,4,4,0,14'])"
   ]
  },
  {
   "cell_type": "code",
   "execution_count": 166,
   "metadata": {
    "collapsed": false
   },
   "outputs": [
    {
     "data": {
      "text/plain": [
       "25"
      ]
     },
     "execution_count": 166,
     "metadata": {},
     "output_type": "execute_result"
    }
   ],
   "source": [
    "longest_word(['how','testing for a bigger word','is','each','word','','3,4,2,4,4,0,14'])"
   ]
  },
  {
   "cell_type": "code",
   "execution_count": 167,
   "metadata": {
    "collapsed": false
   },
   "outputs": [
    {
     "ename": "ValueError",
     "evalue": "You entered an empty list.  Please enter a list of words",
     "output_type": "error",
     "traceback": [
      "\u001b[1;31m---------------------------------------------------------------------------\u001b[0m",
      "\u001b[1;31mValueError\u001b[0m                                Traceback (most recent call last)",
      "\u001b[1;32m<ipython-input-167-ec9bf555ab2b>\u001b[0m in \u001b[0;36m<module>\u001b[1;34m()\u001b[0m\n\u001b[1;32m----> 1\u001b[1;33m \u001b[0mlongest_word\u001b[0m\u001b[1;33m(\u001b[0m\u001b[1;33m[\u001b[0m\u001b[1;33m]\u001b[0m\u001b[1;33m)\u001b[0m\u001b[1;33m\u001b[0m\u001b[0m\n\u001b[0m",
      "\u001b[1;32m<ipython-input-162-4c3043397665>\u001b[0m in \u001b[0;36mlongest_word\u001b[1;34m(input)\u001b[0m\n\u001b[0;32m     20\u001b[0m \u001b[1;33m\u001b[0m\u001b[0m\n\u001b[0;32m     21\u001b[0m     \u001b[1;32mif\u001b[0m \u001b[0minput\u001b[0m \u001b[1;33m==\u001b[0m \u001b[1;33m[\u001b[0m\u001b[1;33m]\u001b[0m\u001b[1;33m:\u001b[0m\u001b[1;33m\u001b[0m\u001b[0m\n\u001b[1;32m---> 22\u001b[1;33m         \u001b[1;32mraise\u001b[0m \u001b[0mValueError\u001b[0m\u001b[1;33m(\u001b[0m\u001b[1;34m'You entered an empty list.  Please enter a list of words'\u001b[0m\u001b[1;33m)\u001b[0m\u001b[1;33m\u001b[0m\u001b[0m\n\u001b[0m\u001b[0;32m     23\u001b[0m \u001b[1;33m\u001b[0m\u001b[0m\n\u001b[0;32m     24\u001b[0m     \u001b[1;31m# we will iterate through the list to ensure that all the elements are words\u001b[0m\u001b[1;33m\u001b[0m\u001b[1;33m\u001b[0m\u001b[0m\n",
      "\u001b[1;31mValueError\u001b[0m: You entered an empty list.  Please enter a list of words"
     ]
    }
   ],
   "source": [
    "longest_word([])"
   ]
  },
  {
   "cell_type": "code",
   "execution_count": 168,
   "metadata": {
    "collapsed": false
   },
   "outputs": [
    {
     "data": {
      "text/plain": [
       "0"
      ]
     },
     "execution_count": 168,
     "metadata": {},
     "output_type": "execute_result"
    }
   ],
   "source": [
    "longest_word([''])"
   ]
  },
  {
   "cell_type": "markdown",
   "metadata": {},
   "source": [
    "###Problem 5:\n"
   ]
  },
  {
   "cell_type": "code",
   "execution_count": 172,
   "metadata": {
    "collapsed": false
   },
   "outputs": [],
   "source": [
    "def filter_long_words(input,n):\n",
    "    \"\"\"filter_long_words(input,n) takes a list of words and an integer n and returns a list of \n",
    "    words that are longer than the n.\n",
    "    \n",
    "    Parameters:\n",
    "    \n",
    "    input - A list of words.  Each element of the list must be a string.\n",
    "    \n",
    "    n - An integer.\"\"\"\n",
    "    # we will use exception handling to notify us of incorrect input.  This way future \n",
    "    # functions do not receive unexpected output from this function.\n",
    "    \n",
    "    # we need to make sure that we received a list\n",
    "    if type(input) != list:\n",
    "        raise TypeError('Your input was not a list.  Please enter a list of words.')\n",
    "    # we need to guard against the scenario when we are give an empty list\n",
    "    \n",
    "    if input == []:\n",
    "        raise ValueError('You entered an empty list.  Please enter a list of words')\n",
    "    \n",
    "    # we will iterate through the list to ensure that all the elements are words\n",
    "    # we initialize a variable to True and will change it to False if we come across\n",
    "    # an element of different type.\n",
    "    are_words = True\n",
    "    \n",
    "    for element in input:\n",
    "        if type(element) != str:\n",
    "            are_words = False\n",
    "            \n",
    "    # now that our loop is finished we will test our variable to see if it found \n",
    "    # an element of type other than str\n",
    "    # the \\ allows us to continue our statement to the next line\n",
    "    \n",
    "    if are_words == False:\n",
    "        raise TypeError('Your list contained an entry that was not a word.  Please enter \\\n",
    "a list of words.')\n",
    "    \n",
    "    # we need to make sure that n is an int. Since the problem still makes sense if\n",
    "    # the user gives us a float, we will convert floats to ints\n",
    "    \n",
    "    if type(n) == float:\n",
    "        n = int(n)\n",
    "    elif type(n) != int:   #we took care of floats above so no floats will hit this line\n",
    "        raise TypeError('The second parameter that you entered was not a number.  Please \\\n",
    "enter a list of words and an integer')\n",
    "        \n",
    "    # we will create a variable and use our words_to_numbers() fuction to produce a list\n",
    "    # of word lengths\n",
    "    \n",
    "    word_list = words_to_numbers(input)\n",
    "    \n",
    "    # we will initialize an empty list to store our words longer than n.  we will interate\n",
    "    # through word_list and only choose the words that are longer than n and then append\n",
    "    # them to our empty list\n",
    "    \n",
    "    answer_list = []\n",
    "    \n",
    "    for i in range(len(word_list)):\n",
    "        if word_list[i] > n:\n",
    "            answer_list.append(input[i])\n",
    "    \n",
    "    \n",
    "    \n",
    "    return(answer_list)\n",
    "            \n",
    "        \n",
    "    "
   ]
  },
  {
   "cell_type": "code",
   "execution_count": 173,
   "metadata": {
    "collapsed": false
   },
   "outputs": [
    {
     "name": "stdout",
     "output_type": "stream",
     "text": [
      "Help on function filter_long_words in module __main__:\n",
      "\n",
      "filter_long_words(input, n)\n",
      "    filter_long_words(input,n) takes a list of words and an integer n and returns a list of \n",
      "    words that are longer than the n.\n",
      "    \n",
      "    Parameters:\n",
      "    \n",
      "    input - A list of words.  Each element of the list must be a string.\n",
      "    \n",
      "    n - An integer.\n",
      "\n"
     ]
    }
   ],
   "source": [
    "help(filter_long_words)"
   ]
  },
  {
   "cell_type": "code",
   "execution_count": 174,
   "metadata": {
    "collapsed": false
   },
   "outputs": [
    {
     "data": {
      "text/plain": [
       "['sean', 'abc', 'math']"
      ]
     },
     "execution_count": 174,
     "metadata": {},
     "output_type": "execute_result"
    }
   ],
   "source": [
    "filter_long_words(['sean','abc','math'],1)"
   ]
  },
  {
   "cell_type": "code",
   "execution_count": 175,
   "metadata": {
    "collapsed": false
   },
   "outputs": [
    {
     "data": {
      "text/plain": [
       "['kljlkjlkjllkj', '                 ', 'hello how are you']"
      ]
     },
     "execution_count": 175,
     "metadata": {},
     "output_type": "execute_result"
    }
   ],
   "source": [
    "filter_long_words(['kljlkjlkjllkj','                 ', 'hello how are you'],1)"
   ]
  },
  {
   "cell_type": "code",
   "execution_count": 176,
   "metadata": {
    "collapsed": false
   },
   "outputs": [
    {
     "ename": "TypeError",
     "evalue": "Your list contained an entry that was not a word.  Please enter a list of words.",
     "output_type": "error",
     "traceback": [
      "\u001b[1;31m---------------------------------------------------------------------------\u001b[0m",
      "\u001b[1;31mTypeError\u001b[0m                                 Traceback (most recent call last)",
      "\u001b[1;32m<ipython-input-176-feb403d2423a>\u001b[0m in \u001b[0;36m<module>\u001b[1;34m()\u001b[0m\n\u001b[1;32m----> 1\u001b[1;33m \u001b[0mfilter_long_words\u001b[0m\u001b[1;33m(\u001b[0m\u001b[1;33m[\u001b[0m\u001b[1;36m1\u001b[0m\u001b[1;33m,\u001b[0m\u001b[1;34m'a'\u001b[0m\u001b[1;33m]\u001b[0m\u001b[1;33m,\u001b[0m \u001b[1;36m5\u001b[0m\u001b[1;33m)\u001b[0m\u001b[1;33m\u001b[0m\u001b[0m\n\u001b[0m",
      "\u001b[1;32m<ipython-input-172-6a50814314b6>\u001b[0m in \u001b[0;36mfilter_long_words\u001b[1;34m(input, n)\u001b[0m\n\u001b[0;32m     33\u001b[0m \u001b[1;33m\u001b[0m\u001b[0m\n\u001b[0;32m     34\u001b[0m     \u001b[1;32mif\u001b[0m \u001b[0mare_words\u001b[0m \u001b[1;33m==\u001b[0m \u001b[1;32mFalse\u001b[0m\u001b[1;33m:\u001b[0m\u001b[1;33m\u001b[0m\u001b[0m\n\u001b[1;32m---> 35\u001b[1;33m         \u001b[1;32mraise\u001b[0m \u001b[0mTypeError\u001b[0m\u001b[1;33m(\u001b[0m\u001b[1;34m'Your list contained an entry that was not a word.  Please enter a list of words.'\u001b[0m\u001b[1;33m)\u001b[0m\u001b[1;33m\u001b[0m\u001b[0m\n\u001b[0m\u001b[0;32m     36\u001b[0m \u001b[1;33m\u001b[0m\u001b[0m\n\u001b[0;32m     37\u001b[0m     \u001b[1;31m# we need to make sure that n is an int. Since the problem still makes sense if\u001b[0m\u001b[1;33m\u001b[0m\u001b[1;33m\u001b[0m\u001b[0m\n",
      "\u001b[1;31mTypeError\u001b[0m: Your list contained an entry that was not a word.  Please enter a list of words."
     ]
    }
   ],
   "source": [
    "filter_long_words([1,'a'], 5)"
   ]
  },
  {
   "cell_type": "code",
   "execution_count": 178,
   "metadata": {
    "collapsed": false
   },
   "outputs": [
    {
     "ename": "TypeError",
     "evalue": "The second parameter that you entered was not a number.  Please enter a list of words and an integer",
     "output_type": "error",
     "traceback": [
      "\u001b[1;31m---------------------------------------------------------------------------\u001b[0m",
      "\u001b[1;31mTypeError\u001b[0m                                 Traceback (most recent call last)",
      "\u001b[1;32m<ipython-input-178-6ea14e3d2ab3>\u001b[0m in \u001b[0;36m<module>\u001b[1;34m()\u001b[0m\n\u001b[1;32m----> 1\u001b[1;33m \u001b[0mfilter_long_words\u001b[0m\u001b[1;33m(\u001b[0m\u001b[1;33m[\u001b[0m\u001b[1;34m'l'\u001b[0m\u001b[1;33m,\u001b[0m\u001b[1;34m'a'\u001b[0m\u001b[1;33m]\u001b[0m\u001b[1;33m,\u001b[0m \u001b[1;34m's'\u001b[0m\u001b[1;33m)\u001b[0m\u001b[1;33m\u001b[0m\u001b[0m\n\u001b[0m",
      "\u001b[1;32m<ipython-input-172-6a50814314b6>\u001b[0m in \u001b[0;36mfilter_long_words\u001b[1;34m(input, n)\u001b[0m\n\u001b[0;32m     41\u001b[0m         \u001b[0mn\u001b[0m \u001b[1;33m=\u001b[0m \u001b[0mint\u001b[0m\u001b[1;33m(\u001b[0m\u001b[0mn\u001b[0m\u001b[1;33m)\u001b[0m\u001b[1;33m\u001b[0m\u001b[0m\n\u001b[0;32m     42\u001b[0m     \u001b[1;32melif\u001b[0m \u001b[0mtype\u001b[0m\u001b[1;33m(\u001b[0m\u001b[0mn\u001b[0m\u001b[1;33m)\u001b[0m \u001b[1;33m!=\u001b[0m \u001b[0mint\u001b[0m\u001b[1;33m:\u001b[0m   \u001b[1;31m#we took care of floats above so no floats will hit this line\u001b[0m\u001b[1;33m\u001b[0m\u001b[0m\n\u001b[1;32m---> 43\u001b[1;33m         \u001b[1;32mraise\u001b[0m \u001b[0mTypeError\u001b[0m\u001b[1;33m(\u001b[0m\u001b[1;34m'The second parameter that you entered was not a number.  Please enter a list of words and an integer'\u001b[0m\u001b[1;33m)\u001b[0m\u001b[1;33m\u001b[0m\u001b[0m\n\u001b[0m\u001b[0;32m     44\u001b[0m \u001b[1;33m\u001b[0m\u001b[0m\n\u001b[0;32m     45\u001b[0m     \u001b[1;31m# we will create a variable and use our words_to_numbers() fuction to produce a list\u001b[0m\u001b[1;33m\u001b[0m\u001b[1;33m\u001b[0m\u001b[0m\n",
      "\u001b[1;31mTypeError\u001b[0m: The second parameter that you entered was not a number.  Please enter a list of words and an integer"
     ]
    }
   ],
   "source": [
    "filter_long_words(['l','a'], 's')"
   ]
  },
  {
   "cell_type": "markdown",
   "metadata": {},
   "source": [
    "###Problem 6:\n"
   ]
  },
  {
   "cell_type": "markdown",
   "metadata": {},
   "source": [
    "To solve probelm six efficiently we are going to use the following functions:\n",
    "\n",
    "1) cleaner(input) - we will write this function to help us pull all of the special\n",
    "characters out of our input.\n",
    "\n",
    "2) space_remover(input) - we will write this function to help us remove all of the \n",
    "spaces from our input\n",
    "\n",
    "3) reverse(input) - we will use the function that we wrote in Homework 2 (#9) to reverse our input\n",
    "\n",
    "4) is_palindrome(input) - we will use the function that we wrote in Homework 2 (#10) to \n",
    "test our cleaned, spaceless, reversed input for being a palindrome."
   ]
  },
  {
   "cell_type": "code",
   "execution_count": 179,
   "metadata": {
    "collapsed": true
   },
   "outputs": [],
   "source": [
    "def cleaner(input):\n",
    "    \"\"\"cleaner(input) accepts a string and strips it of all the special characters\n",
    "    \n",
    "    Parameters:\n",
    "    \n",
    "    input - A string.\"\"\"\n",
    "    # we will use exception handling to notify us of incorrect input.  This way future \n",
    "    # functions do not receive unexpected output from this function.\n",
    "    \n",
    "    # we make sure that our input is a string\n",
    "    \n",
    "    if type(input) != str:\n",
    "        raise TypeError('Your input was not a string.  Please enter a string.')\n",
    "    \n",
    "    # we initalize a new list that we will fill with acceptable characters.\n",
    "    # if an offending character is found we will iterate over it.  if it is \n",
    "    # a character that we want to keep, we will append it to our list\n",
    "    \n",
    "    output = []\n",
    "       \n",
    "    \n",
    "    for i in range(len(input)):\n",
    "        if (input[i] == '!') or (input[i] == '@') or (input[i] == '#') or\\\n",
    "        (input[i] == '$') or (input[i] == '%') or (input[i] == '^') or\\\n",
    "        (input[i] == '&') or (input[i] == '*') or (input[i] == '(') or\\\n",
    "        (input[i] == ')') or (input[i] == '_') or (input[i] == '+') or\\\n",
    "        (input[i] =='-') or (input[i] == '=') or (input[i] == '[') or\\\n",
    "        (input[i] == ']') or (input[i] == '{') or (input[i] == '}') or\\\n",
    "        (input[i] == '\\\\') or (input[i] == '|') or (input[i] == \"`\") or\\\n",
    "        (input[i] == '~') or (input[i] == ';') or (input[i] == ':') or\\\n",
    "        (input[i] == \"'\") or (input[i] == \"\\\"\") or (input[i] == '<') or\\\n",
    "        (input[i] == '>') or (input[i] == '?') or (input[i] == ',') or\\\n",
    "        (input[i] == '.') or(input[i] == '/'):\n",
    "            \n",
    "            pass\n",
    "    # if we come accros the tab character or a new page we will insert a space\n",
    "        \n",
    "        elif input[i] == '\\t':\n",
    "            output.append(' ')\n",
    "            \n",
    "        elif input[i] == '\\n':\n",
    "            output.append(' ')\n",
    "        \n",
    "        else:\n",
    "            output.append(input[i])\n",
    "            \n",
    "    # now we will convert our list back into a string.  the ''.join(list_name) method\n",
    "    # allows us to specify how we are going to construct the string.  By putting '' before\n",
    "    # the period, we are specifyin that we want to replace to commas of the list with empty\n",
    "    # characters (ie, no spaces between characters)\n",
    "    \n",
    "    new_string = ''.join(output)\n",
    "            \n",
    "    return(new_string)"
   ]
  },
  {
   "cell_type": "code",
   "execution_count": 70,
   "metadata": {
    "collapsed": false
   },
   "outputs": [
    {
     "data": {
      "text/plain": [
       "'ab c hello'"
      ]
     },
     "execution_count": 70,
     "metadata": {},
     "output_type": "execute_result"
    }
   ],
   "source": [
    "cleaner('ab\\tc???????????????\\nhello#^$*%')"
   ]
  },
  {
   "cell_type": "code",
   "execution_count": 185,
   "metadata": {
    "collapsed": false
   },
   "outputs": [],
   "source": [
    "def space_remover(input):\n",
    "    \"\"\"space_remover(input) accepts a string and returns a string with no spaces.\n",
    "    \n",
    "    Parameters:\n",
    "    \n",
    "    input - A string.\"\"\"\n",
    "    # we will use exception handling to notify us of incorrect input.  This way future \n",
    "    # functions do not receive unexpected output from this function.\n",
    "    \n",
    "    # test to ensure that we received a string\n",
    "    \n",
    "    if type(input) != str:\n",
    "        raise TypeError(\"Your input was not a string.  Please enter a string.\")\n",
    "        \n",
    "    # we will initialize an empty list.  iterate through our input skipping over spaces.  \n",
    "    # when we encounter a character that is not a space, we will append it to our list.\n",
    "    \n",
    "    list_with_no_spaces = []\n",
    "    \n",
    "    for i in range(len(input)):\n",
    "        if input[i] == ' ':\n",
    "            pass\n",
    "        else:\n",
    "            list_with_no_spaces.append(input[i])\n",
    "            \n",
    "    # now our list contains only non-space elements.  we will convert our list back\n",
    "    # to a string using the ''.join(list_name) method which joins the elements of the\n",
    "    # list and inserts no space where the commas are.\n",
    "    \n",
    "    new_string = ''.join(list_with_no_spaces)\n",
    "    \n",
    "    return(new_string)"
   ]
  },
  {
   "cell_type": "code",
   "execution_count": 186,
   "metadata": {
    "collapsed": false
   },
   "outputs": [
    {
     "data": {
      "text/plain": [
       "'abcd'"
      ]
     },
     "execution_count": 186,
     "metadata": {},
     "output_type": "execute_result"
    }
   ],
   "source": [
    "space_remover('a b c d ')"
   ]
  },
  {
   "cell_type": "code",
   "execution_count": 195,
   "metadata": {
    "collapsed": true
   },
   "outputs": [],
   "source": [
    "def reverse(input):\n",
    "    \"\"\"The reverse(input) fuction computes the reversal of a string.  For example, \n",
    "    reverse('I am testing') shoud return the string 'gnitset ma I'\n",
    "    Parameters:\n",
    "    input - A string.\"\"\"\n",
    "\n",
    "    # we will use exception handling to notify us of incorrect input.  This way future \n",
    "    # functions do not receive unexpected output from this function.    \n",
    "    \n",
    "    # the first thing we do is make sure that we have received input that we can\n",
    "    # work with.  The problem specified that we need a string (type str).\n",
    "    \n",
    "    if type(input) != str: \n",
    "        raise TypeError ('Your input was not a string. Please enter a string.')\n",
    "        \n",
    "    else:\n",
    "        \n",
    "    # our strategy is to iterate backwards through our input using an indexed for loop.\n",
    "    # to iterate backwards, we will use the range function and list function to build a list\n",
    "    # of indices.  The range function does just what it says, given a start, stop, and step value\n",
    "    # it creates a range of integers in between start (inlcusive) and stop (exclusive).  The list\n",
    "    # function just makes that range list every integer in between.  For example, range(0,5) will \n",
    "    # return range(0,5).  list(range(0,5)) will return 0,1,2,3,4.   As indicated, we will use\n",
    "    # list(range(start, stop, step)) will build our list.  As we have seen before, the stop \n",
    "    # value is not included in the list.  I want my list to go backwards so i will use the \n",
    "    # list(range(-1,(len(input)*-1)-1,-1)).  This means that we will start at index -1 which\n",
    "    # is the last element of the string.  We will then iterate by a step of -1 which goes \n",
    "    # bacwards through the string and to make sure that we include the first element, our stop\n",
    "    # value is one less than the number of elements in the string.\n",
    "    \n",
    "    #we initialize a new string 'output' that we will use to build up our new string\n",
    "    \n",
    "        output = ''\n",
    "        for i in list(range(-1,(len(input)*-1)-1,-1)):\n",
    "                output = output + input[i]\n",
    "                \n",
    "        return(output)\n",
    "    \n",
    "    "
   ]
  },
  {
   "cell_type": "code",
   "execution_count": 192,
   "metadata": {
    "collapsed": true
   },
   "outputs": [],
   "source": [
    "def is_palindrome(input):\n",
    "    \"\"\"The is_palindrome(input) function accepts a string and recognizes if the word is a \n",
    "    palindrome.  If the word is a palindrom, the function will return True\n",
    "    \n",
    "    Parameters: \n",
    "    \n",
    "    input- A string\"\"\"\n",
    "\n",
    "    # we will use exception handling to notify us of incorrect input.  This way future \n",
    "    # functions do not receive unexpected output from this function.    \n",
    "    \n",
    "    # the first thing we do is make sure that we have received input that we can\n",
    "    # work with.  The problem specified that we need a string (type str).\n",
    "    \n",
    "    if type(input) != str: \n",
    "        raise TypeError ('Your input was not a string. Please enter a string.')\n",
    "        \n",
    "    else:\n",
    "    # now we are sure that we have a string, we need to consider different types of strings\n",
    "    # and how the definition of palindrome applies to them.  We consider the following types\n",
    "    # of strings (1) a non-empty multiple character strings like 'a aba a'.  This is \n",
    "    # straightforward and our function will return True. (2) a non-empty string of only one \n",
    "    # character is straightforward, by the definition 'a' and 'a' are palindromes.  (3) strings\n",
    "    # containing only spaces will work fine.  (4) non-empty strings need some consideration\n",
    "    # in this function, we choose to view the empty string as nothing at all.  Therefore,\n",
    "    # while '' and '' are equal, we will alert the user that they have entered an empty string\n",
    "    # and that isn't really anything at all.\n",
    "        if input == '':\n",
    "            raise ValueError ('You have entered an empty string.  Please enter a non-empty string.')\n",
    "\n",
    "    # now we will take care of cases 1- 3.   \n",
    "    # we are going to take advantage of work that we have already done.  Since a palindrome\n",
    "    # is a word that is the same when you reverse the order of the characters, we will use\n",
    "    # our reverse function to reverse the string and then we will test the reversed string\n",
    "    # to see if it equals our original word.\n",
    "        \n",
    "        new_string = reverse(input)\n",
    "        \n",
    "        if input == new_string:\n",
    "            return (True)\n",
    "        else:\n",
    "            return (False)"
   ]
  },
  {
   "cell_type": "code",
   "execution_count": 237,
   "metadata": {
    "collapsed": false
   },
   "outputs": [],
   "source": [
    "def phrase_palindromes(input):\n",
    "    \"\"\"pharse_palindromes() accepts a string of words and returns a True value if the\n",
    "    string is a palindrom.  The funtion will ignore punctuation, capitalization, and spacing.\n",
    "    \n",
    "    Parameters:\n",
    "    \n",
    "    input- A string\"\"\"\n",
    "    \n",
    "    # we will use exception handling to notify us of incorrect input.  This way future \n",
    "    # functions do not receive unexpected output from this function.\n",
    "    \n",
    "    # we make sure that our input is a string\n",
    "    \n",
    "    if type(input) != str:\n",
    "        raise TypeError('Your input was not a string.  Please enter a string.')\n",
    "\n",
    "    # since we are ignoring capitalization, we will use the input.lower() method to\n",
    "    # turn all capital letters into lowercase.\n",
    "    \n",
    "    lower_case = input.lower()\n",
    "    \n",
    "    # we will use our two previous functions to turn our input into something that \n",
    "    # we can test.\n",
    "    \n",
    "    \n",
    "    cleaned_string = cleaner(lower_case)  #removes special characters\n",
    "        \n",
    "    cleaned_string_no_spaces = space_remover(cleaned_string) #removes the spaces\n",
    "   \n",
    "    # now that cleaned_list_no_spaces is a list reading from left to right, we will\n",
    "    # create a version that is reversed to test against\n",
    "    \n",
    "    reversed_version = reverse(cleaned_string_no_spaces)\n",
    "      \n",
    "    # now we test cleaned_list_no_spaces against reversed_version to see if it is \n",
    "    # a palindrome\n",
    "    \n",
    "    if cleaned_string_no_spaces == reversed_version:\n",
    "        return True\n",
    "    else:\n",
    "        return False\n",
    "    \n",
    "    "
   ]
  },
  {
   "cell_type": "code",
   "execution_count": 238,
   "metadata": {
    "collapsed": false
   },
   "outputs": [
    {
     "data": {
      "text/plain": [
       "True"
      ]
     },
     "execution_count": 238,
     "metadata": {},
     "output_type": "execute_result"
    }
   ],
   "source": [
    "phrase_palindromes('Was it a rat I saw')"
   ]
  },
  {
   "cell_type": "code",
   "execution_count": 239,
   "metadata": {
    "collapsed": false
   },
   "outputs": [
    {
     "data": {
      "text/plain": [
       "True"
      ]
     },
     "execution_count": 239,
     "metadata": {},
     "output_type": "execute_result"
    }
   ],
   "source": [
    "phrase_palindromes(\"Go hang a salami I'm a lasagna hog\")"
   ]
  },
  {
   "cell_type": "code",
   "execution_count": 240,
   "metadata": {
    "collapsed": false
   },
   "outputs": [
    {
     "data": {
      "text/plain": [
       "True"
      ]
     },
     "execution_count": 240,
     "metadata": {},
     "output_type": "execute_result"
    }
   ],
   "source": [
    "phrase_palindromes('Step on no pets')"
   ]
  },
  {
   "cell_type": "code",
   "execution_count": 241,
   "metadata": {
    "collapsed": false
   },
   "outputs": [
    {
     "data": {
      "text/plain": [
       "True"
      ]
     },
     "execution_count": 241,
     "metadata": {},
     "output_type": "execute_result"
    }
   ],
   "source": [
    "phrase_palindromes('Sit on a potato pan,Otis')"
   ]
  },
  {
   "cell_type": "code",
   "execution_count": 242,
   "metadata": {
    "collapsed": false
   },
   "outputs": [
    {
     "data": {
      "text/plain": [
       "True"
      ]
     },
     "execution_count": 242,
     "metadata": {},
     "output_type": "execute_result"
    }
   ],
   "source": [
    "phrase_palindromes('Lisa Bonet ate no basil')"
   ]
  },
  {
   "cell_type": "code",
   "execution_count": 243,
   "metadata": {
    "collapsed": false
   },
   "outputs": [
    {
     "data": {
      "text/plain": [
       "True"
      ]
     },
     "execution_count": 243,
     "metadata": {},
     "output_type": "execute_result"
    }
   ],
   "source": [
    "phrase_palindromes('Rise to vote sir')"
   ]
  },
  {
   "cell_type": "code",
   "execution_count": 244,
   "metadata": {
    "collapsed": false
   },
   "outputs": [
    {
     "data": {
      "text/plain": [
       "True"
      ]
     },
     "execution_count": 244,
     "metadata": {},
     "output_type": "execute_result"
    }
   ],
   "source": [
    "phrase_palindromes(\"Dammit, I'm mad!\")"
   ]
  },
  {
   "cell_type": "code",
   "execution_count": 245,
   "metadata": {
    "collapsed": false
   },
   "outputs": [
    {
     "data": {
      "text/plain": [
       "True"
      ]
     },
     "execution_count": 245,
     "metadata": {},
     "output_type": "execute_result"
    }
   ],
   "source": [
    "phrase_palindromes('abcd?><:\"{}   dcba')"
   ]
  },
  {
   "cell_type": "markdown",
   "metadata": {},
   "source": [
    "###Problem 7:\n"
   ]
  },
  {
   "cell_type": "markdown",
   "metadata": {},
   "source": [
    "As before, we will use several functions to solve this problem.  Most of them we have written\n",
    "but we will write one more to help us remove numbers."
   ]
  },
  {
   "cell_type": "code",
   "execution_count": 264,
   "metadata": {
    "collapsed": true
   },
   "outputs": [],
   "source": [
    "def number_remover(input):\n",
    "    \"\"\"number_remover(input) accepts a string and removes all numeric values\n",
    "    \n",
    "    Paramters:\n",
    "    input - A string.\"\"\"\n",
    "    # we will use exception handling to notify us of incorrect input.  This way future \n",
    "    # functions do not receive unexpected output from this function.\n",
    "    \n",
    "    # we make sure that our input is a string\n",
    "    \n",
    "    if type(input) != str:\n",
    "        raise TypeError('Your input was not a string.  Please enter a string.')\n",
    "    \n",
    "    # we initalize a new list that we will fill with acceptable characters.\n",
    "    # if an offending character is found we will iterate over it.  if it is \n",
    "    # a character that we want to keep, we will append it to our list\n",
    "    \n",
    "    output = []\n",
    "       \n",
    "    \n",
    "    for i in range(len(input)):\n",
    "        if (input[i] == '0') or (input[i] == '1') or (input[i] == '2') or\\\n",
    "        (input[i] == '3') or (input[i] == '4') or (input[i] == '5') or\\\n",
    "        (input[i] == '6') or (input[i] == '7') or (input[i] == '8') or\\\n",
    "        (input[i] == '9'):\n",
    "            \n",
    "            pass\n",
    "    # if we come accros the tab character or a new page we will insert a space\n",
    "        \n",
    "        elif input[i] == '\\t':\n",
    "            output.append(' ')\n",
    "            \n",
    "        elif input[i] == '\\n':\n",
    "            output.append(' ')\n",
    "        \n",
    "        else:\n",
    "            output.append(input[i])\n",
    "            \n",
    "    # now we will convert our list back into a string.  the ''.join(list_name) method\n",
    "    # allows us to specify how we are going to construct the string.  By putting '' before\n",
    "    # the period, we are specifyin that we want to replace to commas of the list with empty\n",
    "    # characters (ie, no spaces between characters)\n",
    "    \n",
    "    new_string = ''.join(output)\n",
    "            \n",
    "    return(new_string)"
   ]
  },
  {
   "cell_type": "code",
   "execution_count": 265,
   "metadata": {
    "collapsed": false
   },
   "outputs": [
    {
     "data": {
      "text/plain": [
       "'abcdabcd'"
      ]
     },
     "execution_count": 265,
     "metadata": {},
     "output_type": "execute_result"
    }
   ],
   "source": [
    "number_remover('abcd12345abcd')"
   ]
  },
  {
   "cell_type": "code",
   "execution_count": 280,
   "metadata": {
    "collapsed": false
   },
   "outputs": [],
   "source": [
    "def pangram(input):\n",
    "    \"\"\"pangram(input) accepts a string and returns a True if every letter of the English\n",
    "    alphabet is contained in the string and False if it does not.\n",
    "    \n",
    "    Parameters:\n",
    "    \n",
    "    input - A string\"\"\"\n",
    "    # we will use exception handling to notify us of incorrect input.  This way future \n",
    "    # functions do not receive unexpected output from this function.\n",
    "    \n",
    "    # we make sure that our input is a string\n",
    "    \n",
    "    if type(input) != str:\n",
    "        raise TypeError('Your input was not a string.  Please enter a string.')\n",
    "        \n",
    "    # our strategy is a follows: \n",
    "    # (1) Turn our input string into all lowercase letters so we dont' think h and H are different\n",
    "    # (2) Clean all of the spaces and special characters out of our string\n",
    "    # (3) Iterate through our string and build a list where each element is a string\n",
    "    # (4) Use set properties to eliminate duplicates.  \n",
    "    # (5) Count the elements of our list, if we have 26 then we have all of the letters\n",
    "        \n",
    "    lower_case = input.lower()\n",
    "    print(lower_case)\n",
    "    # we will use our two previous functions to turn our input into something that \n",
    "    # we can test.\n",
    "       \n",
    "    cleaned_string = number_remover(cleaner(lower_case))  #removes special characters & numbers\n",
    "\n",
    "    cleaned_string_no_spaces = space_remover(cleaned_string) #removes the spaces\n",
    "\n",
    "    \n",
    "    letter_list = []  #initialize new list to fill with letters\n",
    "    \n",
    "    # we iterate through our clean string and build a list of characters\n",
    "    \n",
    "    for i in range(len(cleaned_string_no_spaces)):\n",
    "        letter_list.append(cleaned_string_no_spaces[i])\n",
    "    \n",
    "\n",
    "    # we use set properties to remove duplicates\n",
    "    \n",
    "    letter_set = set(letter_list)\n",
    "\n",
    "    # we convert our set back into a list\n",
    "    final_list = list(letter_set)\n",
    "\n",
    "    # we count the number of characters in our list\n",
    "    if len(final_list) == 26:\n",
    "        return (True)\n",
    "    elif len(final_list) > 26:\n",
    "        return('You should never get this message.  This means len > 26')\n",
    "    else:\n",
    "        return(False)\n",
    "\n"
   ]
  },
  {
   "cell_type": "code",
   "execution_count": 281,
   "metadata": {
    "collapsed": false
   },
   "outputs": [
    {
     "name": "stdout",
     "output_type": "stream",
     "text": [
      "abcddgaaal\n"
     ]
    },
    {
     "data": {
      "text/plain": [
       "False"
      ]
     },
     "execution_count": 281,
     "metadata": {},
     "output_type": "execute_result"
    }
   ],
   "source": [
    "pangram('abcddgaaal')"
   ]
  },
  {
   "cell_type": "code",
   "execution_count": 282,
   "metadata": {
    "collapsed": false
   },
   "outputs": [
    {
     "name": "stdout",
     "output_type": "stream",
     "text": [
      "the quick brown fox jumps over the lazy dog.\n"
     ]
    },
    {
     "data": {
      "text/plain": [
       "True"
      ]
     },
     "execution_count": 282,
     "metadata": {},
     "output_type": "execute_result"
    }
   ],
   "source": [
    "pangram('The quick brown fox jumps over the lazy dog.')"
   ]
  },
  {
   "cell_type": "code",
   "execution_count": 283,
   "metadata": {
    "collapsed": false
   },
   "outputs": [
    {
     "name": "stdout",
     "output_type": "stream",
     "text": [
      "1234567890!@#$%^&*()`~-_+={}[]abcdefghijklmnopqrstuvwxyzabcdefghijklmnopqrstuvwxyz<>.,?:\n"
     ]
    },
    {
     "data": {
      "text/plain": [
       "True"
      ]
     },
     "execution_count": 283,
     "metadata": {},
     "output_type": "execute_result"
    }
   ],
   "source": [
    "pangram('1234567890!@#$%^&*()`~-_+={}[]abcdefghijklmnopqrstuvwxyzABCDEFGHIJKLMNOPQRSTUVWXYZ<>.,?:')"
   ]
  },
  {
   "cell_type": "code",
   "execution_count": 285,
   "metadata": {
    "collapsed": false
   },
   "outputs": [
    {
     "name": "stdout",
     "output_type": "stream",
     "text": [
      "\n"
     ]
    },
    {
     "data": {
      "text/plain": [
       "False"
      ]
     },
     "execution_count": 285,
     "metadata": {},
     "output_type": "execute_result"
    }
   ],
   "source": [
    "pangram('')"
   ]
  },
  {
   "cell_type": "code",
   "execution_count": 286,
   "metadata": {
    "collapsed": false
   },
   "outputs": [
    {
     "name": "stdout",
     "output_type": "stream",
     "text": [
      "Help on function pangram in module __main__:\n",
      "\n",
      "pangram(input)\n",
      "    pangram(input) accepts a string and returns a True if every letter of the English\n",
      "    alphabet is contained in the string and False if it does not.\n",
      "    \n",
      "    Parameters:\n",
      "    \n",
      "    input - A string\n",
      "\n"
     ]
    }
   ],
   "source": [
    "help(pangram)"
   ]
  },
  {
   "cell_type": "markdown",
   "metadata": {},
   "source": [
    "###Problem 8.\n"
   ]
  },
  {
   "cell_type": "code",
   "execution_count": 293,
   "metadata": {
    "collapsed": true
   },
   "outputs": [],
   "source": [
    "def bottles_of_coke(n=99):\n",
    "    \"\"\"bottles_of_coke(n=99) generates all of the versus of the popular song.  n will\n",
    "    default to 99 which will give you the entire song.  To hear only n versus, choose\n",
    "    an 0 <= n <= 99\n",
    "    \n",
    "    Parameters:\n",
    "    \n",
    "    n - an integer. 0 <= n <= 99.  Defaults to 99\"\"\"\n",
    "    \n",
    "    # we will use exception handling to ensure that n is an integer <= 99\n",
    "    if type(n) != int:\n",
    "        raise TypeError('Your input was not an integer.  Please enter an integer <= 99')\n",
    "    if n > 99 or n < 0:\n",
    "        raise ValueError('Your integer needs to be 0 <= n <= 99')\n",
    "        \n",
    "    counter_variable = n    #initialize variable to help exit loop    \n",
    "    while counter_variable > 0:\n",
    "        print('%s bottles of coke on the wall, %s of coke.\\nTake one down, pass it \\\n",
    "around, %s of coke on the wall.'%(counter_variable,counter_variable,counter_variable-1))\n",
    "        counter_variable -= 1\n",
    "       \n",
    "            \n",
    "        \n",
    "    "
   ]
  },
  {
   "cell_type": "code",
   "execution_count": 295,
   "metadata": {
    "collapsed": false
   },
   "outputs": [
    {
     "name": "stdout",
     "output_type": "stream",
     "text": [
      "99 bottles of coke on the wall, 99 of coke.\n",
      "Take one down, pass it around, 98 of coke on the wall.\n",
      "98 bottles of coke on the wall, 98 of coke.\n",
      "Take one down, pass it around, 97 of coke on the wall.\n",
      "97 bottles of coke on the wall, 97 of coke.\n",
      "Take one down, pass it around, 96 of coke on the wall.\n",
      "96 bottles of coke on the wall, 96 of coke.\n",
      "Take one down, pass it around, 95 of coke on the wall.\n",
      "95 bottles of coke on the wall, 95 of coke.\n",
      "Take one down, pass it around, 94 of coke on the wall.\n",
      "94 bottles of coke on the wall, 94 of coke.\n",
      "Take one down, pass it around, 93 of coke on the wall.\n",
      "93 bottles of coke on the wall, 93 of coke.\n",
      "Take one down, pass it around, 92 of coke on the wall.\n",
      "92 bottles of coke on the wall, 92 of coke.\n",
      "Take one down, pass it around, 91 of coke on the wall.\n",
      "91 bottles of coke on the wall, 91 of coke.\n",
      "Take one down, pass it around, 90 of coke on the wall.\n",
      "90 bottles of coke on the wall, 90 of coke.\n",
      "Take one down, pass it around, 89 of coke on the wall.\n",
      "89 bottles of coke on the wall, 89 of coke.\n",
      "Take one down, pass it around, 88 of coke on the wall.\n",
      "88 bottles of coke on the wall, 88 of coke.\n",
      "Take one down, pass it around, 87 of coke on the wall.\n",
      "87 bottles of coke on the wall, 87 of coke.\n",
      "Take one down, pass it around, 86 of coke on the wall.\n",
      "86 bottles of coke on the wall, 86 of coke.\n",
      "Take one down, pass it around, 85 of coke on the wall.\n",
      "85 bottles of coke on the wall, 85 of coke.\n",
      "Take one down, pass it around, 84 of coke on the wall.\n",
      "84 bottles of coke on the wall, 84 of coke.\n",
      "Take one down, pass it around, 83 of coke on the wall.\n",
      "83 bottles of coke on the wall, 83 of coke.\n",
      "Take one down, pass it around, 82 of coke on the wall.\n",
      "82 bottles of coke on the wall, 82 of coke.\n",
      "Take one down, pass it around, 81 of coke on the wall.\n",
      "81 bottles of coke on the wall, 81 of coke.\n",
      "Take one down, pass it around, 80 of coke on the wall.\n",
      "80 bottles of coke on the wall, 80 of coke.\n",
      "Take one down, pass it around, 79 of coke on the wall.\n",
      "79 bottles of coke on the wall, 79 of coke.\n",
      "Take one down, pass it around, 78 of coke on the wall.\n",
      "78 bottles of coke on the wall, 78 of coke.\n",
      "Take one down, pass it around, 77 of coke on the wall.\n",
      "77 bottles of coke on the wall, 77 of coke.\n",
      "Take one down, pass it around, 76 of coke on the wall.\n",
      "76 bottles of coke on the wall, 76 of coke.\n",
      "Take one down, pass it around, 75 of coke on the wall.\n",
      "75 bottles of coke on the wall, 75 of coke.\n",
      "Take one down, pass it around, 74 of coke on the wall.\n",
      "74 bottles of coke on the wall, 74 of coke.\n",
      "Take one down, pass it around, 73 of coke on the wall.\n",
      "73 bottles of coke on the wall, 73 of coke.\n",
      "Take one down, pass it around, 72 of coke on the wall.\n",
      "72 bottles of coke on the wall, 72 of coke.\n",
      "Take one down, pass it around, 71 of coke on the wall.\n",
      "71 bottles of coke on the wall, 71 of coke.\n",
      "Take one down, pass it around, 70 of coke on the wall.\n",
      "70 bottles of coke on the wall, 70 of coke.\n",
      "Take one down, pass it around, 69 of coke on the wall.\n",
      "69 bottles of coke on the wall, 69 of coke.\n",
      "Take one down, pass it around, 68 of coke on the wall.\n",
      "68 bottles of coke on the wall, 68 of coke.\n",
      "Take one down, pass it around, 67 of coke on the wall.\n",
      "67 bottles of coke on the wall, 67 of coke.\n",
      "Take one down, pass it around, 66 of coke on the wall.\n",
      "66 bottles of coke on the wall, 66 of coke.\n",
      "Take one down, pass it around, 65 of coke on the wall.\n",
      "65 bottles of coke on the wall, 65 of coke.\n",
      "Take one down, pass it around, 64 of coke on the wall.\n",
      "64 bottles of coke on the wall, 64 of coke.\n",
      "Take one down, pass it around, 63 of coke on the wall.\n",
      "63 bottles of coke on the wall, 63 of coke.\n",
      "Take one down, pass it around, 62 of coke on the wall.\n",
      "62 bottles of coke on the wall, 62 of coke.\n",
      "Take one down, pass it around, 61 of coke on the wall.\n",
      "61 bottles of coke on the wall, 61 of coke.\n",
      "Take one down, pass it around, 60 of coke on the wall.\n",
      "60 bottles of coke on the wall, 60 of coke.\n",
      "Take one down, pass it around, 59 of coke on the wall.\n",
      "59 bottles of coke on the wall, 59 of coke.\n",
      "Take one down, pass it around, 58 of coke on the wall.\n",
      "58 bottles of coke on the wall, 58 of coke.\n",
      "Take one down, pass it around, 57 of coke on the wall.\n",
      "57 bottles of coke on the wall, 57 of coke.\n",
      "Take one down, pass it around, 56 of coke on the wall.\n",
      "56 bottles of coke on the wall, 56 of coke.\n",
      "Take one down, pass it around, 55 of coke on the wall.\n",
      "55 bottles of coke on the wall, 55 of coke.\n",
      "Take one down, pass it around, 54 of coke on the wall.\n",
      "54 bottles of coke on the wall, 54 of coke.\n",
      "Take one down, pass it around, 53 of coke on the wall.\n",
      "53 bottles of coke on the wall, 53 of coke.\n",
      "Take one down, pass it around, 52 of coke on the wall.\n",
      "52 bottles of coke on the wall, 52 of coke.\n",
      "Take one down, pass it around, 51 of coke on the wall.\n",
      "51 bottles of coke on the wall, 51 of coke.\n",
      "Take one down, pass it around, 50 of coke on the wall.\n",
      "50 bottles of coke on the wall, 50 of coke.\n",
      "Take one down, pass it around, 49 of coke on the wall.\n",
      "49 bottles of coke on the wall, 49 of coke.\n",
      "Take one down, pass it around, 48 of coke on the wall.\n",
      "48 bottles of coke on the wall, 48 of coke.\n",
      "Take one down, pass it around, 47 of coke on the wall.\n",
      "47 bottles of coke on the wall, 47 of coke.\n",
      "Take one down, pass it around, 46 of coke on the wall.\n",
      "46 bottles of coke on the wall, 46 of coke.\n",
      "Take one down, pass it around, 45 of coke on the wall.\n",
      "45 bottles of coke on the wall, 45 of coke.\n",
      "Take one down, pass it around, 44 of coke on the wall.\n",
      "44 bottles of coke on the wall, 44 of coke.\n",
      "Take one down, pass it around, 43 of coke on the wall.\n",
      "43 bottles of coke on the wall, 43 of coke.\n",
      "Take one down, pass it around, 42 of coke on the wall.\n",
      "42 bottles of coke on the wall, 42 of coke.\n",
      "Take one down, pass it around, 41 of coke on the wall.\n",
      "41 bottles of coke on the wall, 41 of coke.\n",
      "Take one down, pass it around, 40 of coke on the wall.\n",
      "40 bottles of coke on the wall, 40 of coke.\n",
      "Take one down, pass it around, 39 of coke on the wall.\n",
      "39 bottles of coke on the wall, 39 of coke.\n",
      "Take one down, pass it around, 38 of coke on the wall.\n",
      "38 bottles of coke on the wall, 38 of coke.\n",
      "Take one down, pass it around, 37 of coke on the wall.\n",
      "37 bottles of coke on the wall, 37 of coke.\n",
      "Take one down, pass it around, 36 of coke on the wall.\n",
      "36 bottles of coke on the wall, 36 of coke.\n",
      "Take one down, pass it around, 35 of coke on the wall.\n",
      "35 bottles of coke on the wall, 35 of coke.\n",
      "Take one down, pass it around, 34 of coke on the wall.\n",
      "34 bottles of coke on the wall, 34 of coke.\n",
      "Take one down, pass it around, 33 of coke on the wall.\n",
      "33 bottles of coke on the wall, 33 of coke.\n",
      "Take one down, pass it around, 32 of coke on the wall.\n",
      "32 bottles of coke on the wall, 32 of coke.\n",
      "Take one down, pass it around, 31 of coke on the wall.\n",
      "31 bottles of coke on the wall, 31 of coke.\n",
      "Take one down, pass it around, 30 of coke on the wall.\n",
      "30 bottles of coke on the wall, 30 of coke.\n",
      "Take one down, pass it around, 29 of coke on the wall.\n",
      "29 bottles of coke on the wall, 29 of coke.\n",
      "Take one down, pass it around, 28 of coke on the wall.\n",
      "28 bottles of coke on the wall, 28 of coke.\n",
      "Take one down, pass it around, 27 of coke on the wall.\n",
      "27 bottles of coke on the wall, 27 of coke.\n",
      "Take one down, pass it around, 26 of coke on the wall.\n",
      "26 bottles of coke on the wall, 26 of coke.\n",
      "Take one down, pass it around, 25 of coke on the wall.\n",
      "25 bottles of coke on the wall, 25 of coke.\n",
      "Take one down, pass it around, 24 of coke on the wall.\n",
      "24 bottles of coke on the wall, 24 of coke.\n",
      "Take one down, pass it around, 23 of coke on the wall.\n",
      "23 bottles of coke on the wall, 23 of coke.\n",
      "Take one down, pass it around, 22 of coke on the wall.\n",
      "22 bottles of coke on the wall, 22 of coke.\n",
      "Take one down, pass it around, 21 of coke on the wall.\n",
      "21 bottles of coke on the wall, 21 of coke.\n",
      "Take one down, pass it around, 20 of coke on the wall.\n",
      "20 bottles of coke on the wall, 20 of coke.\n",
      "Take one down, pass it around, 19 of coke on the wall.\n",
      "19 bottles of coke on the wall, 19 of coke.\n",
      "Take one down, pass it around, 18 of coke on the wall.\n",
      "18 bottles of coke on the wall, 18 of coke.\n",
      "Take one down, pass it around, 17 of coke on the wall.\n",
      "17 bottles of coke on the wall, 17 of coke.\n",
      "Take one down, pass it around, 16 of coke on the wall.\n",
      "16 bottles of coke on the wall, 16 of coke.\n",
      "Take one down, pass it around, 15 of coke on the wall.\n",
      "15 bottles of coke on the wall, 15 of coke.\n",
      "Take one down, pass it around, 14 of coke on the wall.\n",
      "14 bottles of coke on the wall, 14 of coke.\n",
      "Take one down, pass it around, 13 of coke on the wall.\n",
      "13 bottles of coke on the wall, 13 of coke.\n",
      "Take one down, pass it around, 12 of coke on the wall.\n",
      "12 bottles of coke on the wall, 12 of coke.\n",
      "Take one down, pass it around, 11 of coke on the wall.\n",
      "11 bottles of coke on the wall, 11 of coke.\n",
      "Take one down, pass it around, 10 of coke on the wall.\n",
      "10 bottles of coke on the wall, 10 of coke.\n",
      "Take one down, pass it around, 9 of coke on the wall.\n",
      "9 bottles of coke on the wall, 9 of coke.\n",
      "Take one down, pass it around, 8 of coke on the wall.\n",
      "8 bottles of coke on the wall, 8 of coke.\n",
      "Take one down, pass it around, 7 of coke on the wall.\n",
      "7 bottles of coke on the wall, 7 of coke.\n",
      "Take one down, pass it around, 6 of coke on the wall.\n",
      "6 bottles of coke on the wall, 6 of coke.\n",
      "Take one down, pass it around, 5 of coke on the wall.\n",
      "5 bottles of coke on the wall, 5 of coke.\n",
      "Take one down, pass it around, 4 of coke on the wall.\n",
      "4 bottles of coke on the wall, 4 of coke.\n",
      "Take one down, pass it around, 3 of coke on the wall.\n",
      "3 bottles of coke on the wall, 3 of coke.\n",
      "Take one down, pass it around, 2 of coke on the wall.\n",
      "2 bottles of coke on the wall, 2 of coke.\n",
      "Take one down, pass it around, 1 of coke on the wall.\n",
      "1 bottles of coke on the wall, 1 of coke.\n",
      "Take one down, pass it around, 0 of coke on the wall.\n"
     ]
    }
   ],
   "source": [
    "bottles_of_coke()"
   ]
  },
  {
   "cell_type": "markdown",
   "metadata": {},
   "source": [
    "###Problem 9:\n"
   ]
  },
  {
   "cell_type": "code",
   "execution_count": 321,
   "metadata": {
    "collapsed": true
   },
   "outputs": [],
   "source": [
    "def translate(input):\n",
    "    \"\"\" translate(input) accepts a list of English words and returns a list of Swedish words.\n",
    "    \n",
    "    Paramters:\n",
    "\n",
    "    input - A list of words.  Each element of the list must be a string.\"\"\"\n",
    "    \n",
    "    # we will use exception handling to notify us of incorrect input.  This way future \n",
    "    # functions do not receive unexpected output from this function.\n",
    "    \n",
    "    # we need to make sure that we received a list\n",
    "    if type(input) != list:\n",
    "        raise TypeError('Your input was not a list.  Please enter a list of words.')\n",
    "    # we need to guard against the scenario when we are give an empty list\n",
    "    \n",
    "    if input == []:\n",
    "        raise ValueError('You entered an empty list.  Please enter a list of words')\n",
    "    \n",
    "    # we will iterate through the list to ensure that all the elements are words\n",
    "    # we initialize a variable to True and will change it to False if we come across\n",
    "    # an element of different type.\n",
    "    are_words = True\n",
    "    \n",
    "    for element in input:\n",
    "        if type(element) != str:\n",
    "            are_words = False\n",
    "            \n",
    "    # now that our loop is finished we will test our variable to see if it found \n",
    "    # an element of type other than str\n",
    "    # the \\ allows us to continue our statement to the next line\n",
    "    \n",
    "    if are_words == False:\n",
    "        raise TypeError('Your list contained an entry that was not a word.  Please enter \\\n",
    "a list of words.')    \n",
    "    \n",
    "    # we create our small dictionary of english to sweedish transaltions\n",
    "    \n",
    "    trans_dict = {'merry':'god', 'christmas':'jul', 'and':'och', 'happy':'gott',\\\n",
    "'new':'nytt', 'year':'ar'}\n",
    "    \n",
    "    # since this is our first time using dictionaries, i will explain more than I will\n",
    "    # in the future.  For each record, the item on the left side of the : is the key\n",
    "    # and the item on the right side is the value.  Dicts are unordered objects.  If we\n",
    "    # want to access the value associate with the key 'merry'. trans_dict['merry'] will\n",
    "    # give us 'god'\n",
    "    \n",
    "    # to solve our problem, we need to build a list of sweedish words that correspond\n",
    "    # to the list of english words that we were give.  We will iterate through the english\n",
    "    # list and build a new list using the dict_name[key] = value method described above\n",
    "    \n",
    "    sweedish_list = []   #initialize empty list\n",
    " \n",
    "    # we have to be careful here.  our dictionary is built with all lowercase letters.\n",
    "    # of course, it is possible that our user will input Merry instead of merry.  \n",
    "    # we will make words from our input lowercase to accomodate for this\n",
    "    # additionally, our user could have entered a word that our dictionary doesn't understand\n",
    "    # if this happens, our program will blow up.  We want to handle this creatively to let\n",
    "    # the user know that we don't know very much sweedish!\n",
    "    for word in input:\n",
    "    # this is where we try to catch words that we don't know\n",
    "        try:      \n",
    "            sweedish_list.append(trans_dict[word.lower()])\n",
    "        except KeyError as e:\n",
    "            print(\"Sorry but I don't know very much Sweedish.  I can only handle \\\n",
    "the words: merry, christmas, happy, new, year.\")\n",
    "        \n",
    "    return(sweedish_list)"
   ]
  },
  {
   "cell_type": "code",
   "execution_count": 322,
   "metadata": {
    "collapsed": false
   },
   "outputs": [
    {
     "data": {
      "text/plain": [
       "['god', 'jul']"
      ]
     },
     "execution_count": 322,
     "metadata": {},
     "output_type": "execute_result"
    }
   ],
   "source": [
    "translate(['merry', 'Christmas'])"
   ]
  },
  {
   "cell_type": "code",
   "execution_count": 323,
   "metadata": {
    "collapsed": false
   },
   "outputs": [
    {
     "name": "stdout",
     "output_type": "stream",
     "text": [
      "Sorry but I don't know very much Sweedish.  I can only handle the words: merry, christmas, happy, new, year.\n"
     ]
    },
    {
     "data": {
      "text/plain": [
       "['god']"
      ]
     },
     "execution_count": 323,
     "metadata": {},
     "output_type": "execute_result"
    }
   ],
   "source": [
    "translate(['merry', 'unknown'])"
   ]
  },
  {
   "cell_type": "markdown",
   "metadata": {},
   "source": [
    "###Problem 10:\n"
   ]
  },
  {
   "cell_type": "code",
   "execution_count": 357,
   "metadata": {
    "collapsed": false
   },
   "outputs": [],
   "source": [
    "def char_freq(input):\n",
    "    \"\"\"char_freq(input) accepts a string and builds up a frequecy listing of the \n",
    "    characters contained in it.  The returned product is a dictionary that has \n",
    "    the letter as the key and the frequency as the value.\n",
    "    \n",
    "    Paramters:\n",
    "    \n",
    "    input - A string\"\"\"\n",
    "    # we will use exception handling to notify us of incorrect input.  This way future \n",
    "    # functions do not receive unexpected output from this function.\n",
    "    \n",
    "    # we make sure that our input is a string\n",
    "    \n",
    "    if type(input) != str:\n",
    "        raise TypeError('Your input was not a string.  Please enter a string.')\n",
    "\n",
    "    # we are going to start with an empty dictionary and build it up as we go\n",
    "    \n",
    "    output_dict = {}\n",
    "\n",
    "    # we use exception handling to help us build up our dictionary.  when we call a key\n",
    "    # if it doesn't exist, python will try to throw a key error.  We will catch that key\n",
    "    # error and know that means that key/value pair does not exist so we will create it.\n",
    "    # if no key error occurs, then the key exists and we can add 1 to its value each time\n",
    "    # we ecounter it.\n",
    "    for char in input:\n",
    "        try:\n",
    "            output_dict[char] += 1   #check the key for existence, no error then we add to the count\n",
    "        except KeyError as e:       #catch the KeyError and handle it without blowing up the program \n",
    "            output_dict[char] = 1\n",
    "            \n",
    "    return (output_dict)"
   ]
  },
  {
   "cell_type": "code",
   "execution_count": 346,
   "metadata": {
    "collapsed": false
   },
   "outputs": [
    {
     "data": {
      "text/plain": [
       "{'a': 3, 'b': 1, 'c': 3, 'd': 1, 'e': 3}"
      ]
     },
     "execution_count": 346,
     "metadata": {},
     "output_type": "execute_result"
    }
   ],
   "source": [
    "char_freq('aaabcccdeee')"
   ]
  },
  {
   "cell_type": "code",
   "execution_count": 347,
   "metadata": {
    "collapsed": false
   },
   "outputs": [
    {
     "data": {
      "text/plain": [
       "{'$': 4, '%': 1, '&': 1, '^': 1, 'a': 3, 'b': 1, 'c': 3, 'd': 1, 'e': 3}"
      ]
     },
     "execution_count": 347,
     "metadata": {},
     "output_type": "execute_result"
    }
   ],
   "source": [
    "char_freq('aaabcccdeee&^%$$$$')"
   ]
  },
  {
   "cell_type": "code",
   "execution_count": 348,
   "metadata": {
    "collapsed": false
   },
   "outputs": [
    {
     "data": {
      "text/plain": [
       "{}"
      ]
     },
     "execution_count": 348,
     "metadata": {},
     "output_type": "execute_result"
    }
   ],
   "source": [
    "char_freq('')"
   ]
  },
  {
   "cell_type": "markdown",
   "metadata": {},
   "source": [
    "###Problem 11:"
   ]
  },
  {
   "cell_type": "code",
   "execution_count": 372,
   "metadata": {
    "collapsed": false
   },
   "outputs": [],
   "source": [
    "def decode_rot13(input):\n",
    "    \"\"\"decode_rot13(input) takes a string and dechipers is using the Caesar cipher which replaces\n",
    "    every given letter with a letter 13 positions down the alphabet.\n",
    "    \n",
    "    Parameters:\n",
    "    \n",
    "    input - A string.\"\"\"\n",
    "    \n",
    "    # we will use exception handling to notify us of incorrect input.  This way future \n",
    "    # functions do not receive unexpected output from this function.\n",
    "    \n",
    "    # we make sure that our input is a string\n",
    "    \n",
    "    if type(input) != str:\n",
    "        raise TypeError('Your input was not a string.  Please enter a string.')\n",
    "        \n",
    "    # first, we will build our decoder dictionary\n",
    "    \n",
    "    rot13_dict = {'a':'n','b':'o','c':'p','d':'q','e':'r','f':'s','g':'t','h':'u','i':'v',\\\n",
    "                  'j':'w','k':'x','l':'y','m':'z','n':'a','o':'b','p':'c','q':'d','r':'e',\\\n",
    "                  's':'f','t':'g','u':'h','v':'i','w':'j','x':'k','y':'l','z':'m','A':'N',\\\n",
    "                  'B':'O','C':'P','D':'Q','E':'R','F':'S','G':'T','H':'U','I':'V','J':'W',\\\n",
    "                  'K':'X','L':'Y','M':'Z','N':'A','O':'B','P':'C','Q':'D','R':'E','S':'F',\\\n",
    "                  'T':'G','U':'H','V':'I','W':'J','X':'K','Y':'L','Z':'M'}\n",
    "    \n",
    "    \n",
    "    # our input string will include characters other than lower and upper case letters.\n",
    "    # will will account for this using exception handling\n",
    "    # we will build up a list as we iterate through our input string checking key/value\n",
    "    # pairs.  at the end, we will convert our list into a string\n",
    "    \n",
    "    translated_list = []     #initialize empty list\n",
    "    \n",
    "    for i in range(len(input)):\n",
    "        try:\n",
    "    # first, we try to translate the letter.  if the key is found, our list is appended with\n",
    "    # the decoded character\n",
    "            translated_list.append(rot13_dict[input[i]])\n",
    "    # if the key is not found, a key error will result.  we know this to mean that this is \n",
    "    # a character like a space, ?, etc.  In this case, we just append our list with the\n",
    "    # offending character\n",
    "        except KeyError as e:\n",
    "            translated_list.append(input[i])\n",
    "            \n",
    "    # now we turn our list into a string\n",
    "    \n",
    "    translated_string = ''.join(translated_list)    \n",
    "    return(translated_string)"
   ]
  },
  {
   "cell_type": "code",
   "execution_count": 373,
   "metadata": {
    "collapsed": false
   },
   "outputs": [
    {
     "data": {
      "text/plain": [
       "'Caesar cipher? I much prefer Caesar salad!'"
      ]
     },
     "execution_count": 373,
     "metadata": {},
     "output_type": "execute_result"
    }
   ],
   "source": [
    "decode_rot13('Pnrfne pvcure? V zhpu cersre Pnrfne fnynq!')"
   ]
  },
  {
   "cell_type": "markdown",
   "metadata": {
    "collapsed": true
   },
   "source": [
    "###Problem 12:"
   ]
  },
  {
   "cell_type": "code",
   "execution_count": 54,
   "metadata": {
    "collapsed": true
   },
   "outputs": [],
   "source": [
    "def correct(input):\n",
    "    \"\"\"correct(input) takes a string and see to it that (1) two or more occurrences of the \n",
    "    space character is compressed into one, and (2) inserts an extra space after a period \n",
    "    if the period is directly followed by a letter.  This means that a period that is \n",
    "    followed directly by a space,number,special character, or the end of the string will\n",
    "    remain unchanged.\n",
    "    \n",
    "    Parameters:\n",
    "    \n",
    "    input - A string\"\"\"\n",
    "    \n",
    "     # we will use exception handling to notify us of incorrect input.  This way future \n",
    "    # functions do not receive unexpected output from this function.\n",
    "    \n",
    "    # we make sure that our input is a string\n",
    "    \n",
    "    if type(input) != str:\n",
    "        raise TypeError('Your input was not a string.  Please enter a string.')\n",
    "        \n",
    "    # we will convert our string to a list using the split method.  this will eliminate\n",
    "    # unwanted spaces\n",
    "    \n",
    "    input_list = input.split()\n",
    "    print(input_list)\n",
    "    # we now convert our list back into a string inserting 1 space in between all letters\n",
    "    \n",
    "    new_str = ' '.join(input_list)\n",
    "    print(new_str)\n",
    "    \n",
    "    # now we have a string with 1 space between each word but punctuation still doesn't\n",
    "    # have a space after it.  If the punctuation is not the last character of the string\n",
    "    # we want to replace it with itself followed by a space.\n",
    "    \n",
    "    output_string = ''           #initialize empty string to build our answer\n",
    "    \n",
    "    # since we care whether or not the period is followed by a letter, we build a list\n",
    "    # of letters and then we will test memebership using \"in\"\n",
    "    \n",
    "    letter_list = ['a','b','c','d','e','f','g','h','i','j','k','l','m','n','o','p','q','r',\\\n",
    "                  's','t','u','v','w','x','y','z','A','B','C','D','E','F','G','H','I','J','K',\\\n",
    "                  'L','M','N','O','P','Q','R','S','T','U','V','W','X','Y','Z']\n",
    "\n",
    "    # we iterate through the entire string except the last character, we will deal with that later\n",
    "\n",
    "    for i in range(len(new_str)-1):  \n",
    "            if new_str[i] == '.':\n",
    "                if (new_str[i+1]) in letter_list:      #test membership in the list\n",
    "                    output_string = output_string + new_str[i] + ' '  # add a space if in list\n",
    "                else:\n",
    "                    output_string = output_string + new_str[i]    #otherwise, no space inserted\n",
    "            else:\n",
    "                    output_string = output_string + new_str[i]\n",
    "\n",
    "    # now we put the last character back onto our final string                \n",
    "    output_string += new_str[-1]\n",
    "    \n",
    "    return(output_string)\n",
    "        "
   ]
  },
  {
   "cell_type": "code",
   "execution_count": 55,
   "metadata": {
    "collapsed": false
   },
   "outputs": [
    {
     "name": "stdout",
     "output_type": "stream",
     "text": [
      "['testing.', 'hou.', '..', 'this', 'is', 'ogig', 'to', 'work.']\n",
      "testing. hou. .. this is ogig to work.\n"
     ]
    },
    {
     "data": {
      "text/plain": [
       "'testing. hou. .. this is ogig to work.'"
      ]
     },
     "execution_count": 55,
     "metadata": {},
     "output_type": "execute_result"
    }
   ],
   "source": [
    "correct('testing. hou. ..              this is ogig to work.')"
   ]
  },
  {
   "cell_type": "code",
   "execution_count": 56,
   "metadata": {
    "collapsed": false
   },
   "outputs": [
    {
     "name": "stdout",
     "output_type": "stream",
     "text": [
      "['This', 'is', 'very', 'funny', 'and', 'cool.Indeed!']\n",
      "This is very funny and cool.Indeed!\n"
     ]
    },
    {
     "data": {
      "text/plain": [
       "'This is very funny and cool. Indeed!'"
      ]
     },
     "execution_count": 56,
     "metadata": {},
     "output_type": "execute_result"
    }
   ],
   "source": [
    "correct('This  is  very funny and    cool.Indeed!')"
   ]
  },
  {
   "cell_type": "markdown",
   "metadata": {},
   "source": [
    "###Problem 13:\n"
   ]
  },
  {
   "cell_type": "code",
   "execution_count": 71,
   "metadata": {
    "collapsed": false
   },
   "outputs": [],
   "source": [
    "def make_3sg_form(input):\n",
    "    \"\"\"make_3sg_form(input) accepts a verb (type string) in infinitive form and returns\n",
    "    its third person singular form.  This function will follow the following rules:\n",
    "    \n",
    "    (1)  If the verb ends in y, remove it and add ies\n",
    "    (2)  If the verb ends in o,ch,s,sh,x, or z, add es\n",
    "    (3)  By default just add s\n",
    "    \n",
    "    Parameters:\n",
    "    \n",
    "    input - A string that needs to be a verb in infinitive form\"\"\"\n",
    "    \n",
    "    # we will use exception handling to notify us of incorrect input.  This way future \n",
    "    # functions do not receive unexpected output from this function.\n",
    "    \n",
    "    # we make sure that our input is a string\n",
    "    \n",
    "    if type(input) != str:\n",
    "        raise TypeError('Your input was not a string.  Please enter a string.')\n",
    "        \n",
    "    if input == '':\n",
    "        raise ValueError(\"You entered the empty string.  Please enter a verb in \\\n",
    "infinitive form.\")\n",
    "           \n",
    "    # we will test the ending of the words using the endswith() method. \n",
    "    \n",
    "    output_string = ''          #initialize empty string\n",
    "    \n",
    "\n",
    "    # we will handle case one, if it ends in y, we will build a new string that includes\n",
    "    # all of the letters of input except the last letter, then we add 'ies'\n",
    "\n",
    "    if input.endswith('y'):\n",
    "        for i in range(len(input)-1):\n",
    "            output_string += input[i]\n",
    "        output_string += 'ies'\n",
    "    # for case two, we just want to add 'es' without removing anything\n",
    "        \n",
    "    elif (input.endswith('o')) or (input.endswith('s')) or (input.endswith('x')) \\\n",
    "    or (input.endswith('z')) or (input.endswith('ch')) or (input.endswith('sh')):\n",
    "        output_string = input + 'es'\n",
    "\n",
    "    # case 3 is handled the same as case 2\n",
    "\n",
    "    else:\n",
    "        output_string = input + 's'\n",
    "\n",
    "    return(output_string)\n",
    "                "
   ]
  },
  {
   "cell_type": "code",
   "execution_count": 67,
   "metadata": {
    "collapsed": false
   },
   "outputs": [
    {
     "data": {
      "text/plain": [
       "'tries'"
      ]
     },
     "execution_count": 67,
     "metadata": {},
     "output_type": "execute_result"
    }
   ],
   "source": [
    "make_3sg_form('try')"
   ]
  },
  {
   "cell_type": "code",
   "execution_count": 68,
   "metadata": {
    "collapsed": false
   },
   "outputs": [
    {
     "data": {
      "text/plain": [
       "'brushes'"
      ]
     },
     "execution_count": 68,
     "metadata": {},
     "output_type": "execute_result"
    }
   ],
   "source": [
    "make_3sg_form('brush')"
   ]
  },
  {
   "cell_type": "code",
   "execution_count": 69,
   "metadata": {
    "collapsed": false
   },
   "outputs": [
    {
     "data": {
      "text/plain": [
       "'fixes'"
      ]
     },
     "execution_count": 69,
     "metadata": {},
     "output_type": "execute_result"
    }
   ],
   "source": [
    "make_3sg_form('fix')"
   ]
  },
  {
   "cell_type": "code",
   "execution_count": 70,
   "metadata": {
    "collapsed": false
   },
   "outputs": [
    {
     "data": {
      "text/plain": [
       "'touches'"
      ]
     },
     "execution_count": 70,
     "metadata": {},
     "output_type": "execute_result"
    }
   ],
   "source": [
    "make_3sg_form('touch')"
   ]
  },
  {
   "cell_type": "code",
   "execution_count": 73,
   "metadata": {
    "collapsed": false
   },
   "outputs": [
    {
     "name": "stdout",
     "output_type": "stream",
     "text": [
      "Help on function make_3sg_form in module __main__:\n",
      "\n",
      "make_3sg_form(input)\n",
      "    make_3sg_form(input) accepts a verb (type string) in infinitive form and returns\n",
      "    its third person singular form.  This function will follow the following rules:\n",
      "    \n",
      "    (1)  If the verb ends in y, remove it and add ies\n",
      "    (2)  If the verb ends in o,ch,s,sh,x, or z, add es\n",
      "    (3)  By default just add s\n",
      "    \n",
      "    Parameters:\n",
      "    \n",
      "    input - A string that needs to be a verb in infinitive form\n",
      "\n"
     ]
    }
   ],
   "source": [
    "help(make_3sg_form)"
   ]
  },
  {
   "cell_type": "markdown",
   "metadata": {},
   "source": [
    "###Problem 14:\n"
   ]
  },
  {
   "cell_type": "code",
   "execution_count": 94,
   "metadata": {
    "collapsed": true
   },
   "outputs": [],
   "source": [
    "def make_ing_form(input):\n",
    "    \"\"\"make_ing_form(input) will accept a verb in infinitive form and returns its present\n",
    "    participle form.  This function will follow the following rules:\n",
    "    \n",
    "    (1)   If the verb ends in e, drop the e and add ing (with excpetions: be, see, flee, etc)\n",
    "    (2)   If the verb ends in ie, change ie to y and add ing\n",
    "    (3)   For words consisting of consonant-vowel-consonant, double the final letter before\n",
    "            adding ing\n",
    "    (4)   By default just add ing\n",
    "    \n",
    "    Parameters:\n",
    "    \n",
    "    input - A string that needs to be a verb in infinitive form.\"\"\"\n",
    " \n",
    "    # we will use exception handling to notify us of incorrect input.  This way future \n",
    "    # functions do not receive unexpected output from this function.\n",
    "    \n",
    "    # we make sure that our input is a string\n",
    "    \n",
    "    if type(input) != str:\n",
    "        raise TypeError('Your input was not a string.  Please enter a string.')\n",
    "        \n",
    "    if input == '':\n",
    "        raise ValueError(\"You entered the empty string.  Please enter a verb in \\\n",
    "infinitive form.\")\n",
    "        \n",
    "    output_string = ''    #initialize empty string so we can build up our answer\n",
    "    \n",
    "    # we build a list of our exceptions to case 1 (at least the ones I could think of)\n",
    "    exceptions = ['be','see','flee','knee','pee','free','singe','dye','agree','disagree']\n",
    "\n",
    "    \n",
    "    # we build a list of consonants and a list of vowells.  we will explain this more\n",
    "    # in case 3 below.  for now, we just build the lists\n",
    "    \n",
    "    consonants = ['b','c','d','f','g','h','j','k','l','m','n','p','q','r','s','t','v',\\\n",
    "                  'w','x','y','z','B','C','D','F','G','H','J','K','L','M','N','P','Q',\\\n",
    "                  'R','S','T','V','W','X','Y','Z']\n",
    "\n",
    "    vowels = ['a','e','i','o','u','A','E','I','O','U']\n",
    "    # case 1, if it ends in 'e' we will test memebership in our exception list.  if it is\n",
    "    # an exception, we will slice a copy of our input and add ing.  if not, we will slice\n",
    "    # a copy dropping the last letter and add ing\n",
    "    if input[-1] == 'e':\n",
    "        if input in exceptions:\n",
    "            output_string = input[:] + 'ing'\n",
    "        else:\n",
    "            output_string = input[:-1] + 'ing'\n",
    "    \n",
    "    # we handle case 2 first, then case 3, then case 1.  Since case 1 deals with verbs\n",
    "    # ending in 'e', case 2 and 3 could also end in 'e' so we don't want to confuse\n",
    "    # cases.  We use a if, elif, else structure to make sure that each case only hits\n",
    "    # one of our tests\n",
    "    \n",
    "    # case 2, if it ends in ie, we will slice a copy dropping the last 2 letters and \n",
    "    # then we will add 'ying'\n",
    "    \n",
    "    if input.endswith('ie'):\n",
    "        output_string = input[:-2] + 'ying'\n",
    "\n",
    "    # case 3, verbs ending in consonant-vowell-consonant, we will use our vowel and consonant\n",
    "    # lists to test memebership\n",
    "    \n",
    "    elif (input[-3] in consonants) and (input[-2] in vowels) and (input[-1] in consonants):\n",
    "        output_string = input[:-1] + input[-1] + 'ing'\n",
    "        \n",
    "    elif input[-1] == 'e':\n",
    "        if input in exceptions:\n",
    "            output_string = input[:] + 'ing'\n",
    "        else:\n",
    "            output_string = input[:-1] + 'ing'    \n",
    "    else:\n",
    "        output_string = input[:] +'ing'\n",
    "    \n",
    "    \n",
    "    return(output_string)\n",
    "    \n",
    "    "
   ]
  },
  {
   "cell_type": "code",
   "execution_count": 95,
   "metadata": {
    "collapsed": false
   },
   "outputs": [
    {
     "data": {
      "text/plain": [
       "'lying'"
      ]
     },
     "execution_count": 95,
     "metadata": {},
     "output_type": "execute_result"
    }
   ],
   "source": [
    "make_ing_form('lie')"
   ]
  },
  {
   "cell_type": "code",
   "execution_count": 96,
   "metadata": {
    "collapsed": false
   },
   "outputs": [
    {
     "data": {
      "text/plain": [
       "'seeing'"
      ]
     },
     "execution_count": 96,
     "metadata": {},
     "output_type": "execute_result"
    }
   ],
   "source": [
    "make_ing_form('see')"
   ]
  },
  {
   "cell_type": "code",
   "execution_count": 97,
   "metadata": {
    "collapsed": false
   },
   "outputs": [
    {
     "data": {
      "text/plain": [
       "'moving'"
      ]
     },
     "execution_count": 97,
     "metadata": {},
     "output_type": "execute_result"
    }
   ],
   "source": [
    "make_ing_form('move')"
   ]
  },
  {
   "cell_type": "code",
   "execution_count": 98,
   "metadata": {
    "collapsed": false
   },
   "outputs": [
    {
     "data": {
      "text/plain": [
       "'huging'"
      ]
     },
     "execution_count": 98,
     "metadata": {},
     "output_type": "execute_result"
    }
   ],
   "source": [
    "make_ing_form('hug')"
   ]
  },
  {
   "cell_type": "code",
   "execution_count": 99,
   "metadata": {
    "collapsed": false
   },
   "outputs": [
    {
     "data": {
      "text/plain": [
       "'killing'"
      ]
     },
     "execution_count": 99,
     "metadata": {},
     "output_type": "execute_result"
    }
   ],
   "source": [
    "make_ing_form('kill')"
   ]
  },
  {
   "cell_type": "code",
   "execution_count": 100,
   "metadata": {
    "collapsed": false
   },
   "outputs": [
    {
     "data": {
      "text/plain": [
       "'canceling'"
      ]
     },
     "execution_count": 100,
     "metadata": {},
     "output_type": "execute_result"
    }
   ],
   "source": [
    "make_ing_form('cancel')"
   ]
  },
  {
   "cell_type": "code",
   "execution_count": null,
   "metadata": {
    "collapsed": true
   },
   "outputs": [],
   "source": []
  }
 ],
 "metadata": {
  "kernelspec": {
   "display_name": "Python 3",
   "language": "python",
   "name": "python3"
  },
  "language_info": {
   "codemirror_mode": {
    "name": "ipython",
    "version": 3
   },
   "file_extension": ".py",
   "mimetype": "text/x-python",
   "name": "python",
   "nbconvert_exporter": "python",
   "pygments_lexer": "ipython3",
   "version": "3.4.3"
  }
 },
 "nbformat": 4,
 "nbformat_minor": 0
}
