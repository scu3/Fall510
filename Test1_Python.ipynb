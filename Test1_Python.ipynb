{
 "cells": [
  {
   "cell_type": "markdown",
   "metadata": {},
   "source": [
    "#Sean Underwood\n",
    "##Math 510, Fall 2015\n",
    "###Test 1 Python"
   ]
  },
  {
   "cell_type": "markdown",
   "metadata": {},
   "source": [
    "__Problem 1:__"
   ]
  },
  {
   "cell_type": "code",
   "execution_count": 10,
   "metadata": {
    "collapsed": false
   },
   "outputs": [],
   "source": [
    "def polygperim(input):\n",
    "    \"\"\"The polygperim(input) function accepts a vector of x,y pairs that describe the \n",
    "    vertices of a polygon given in order. For example, the vector [0,0,2,0,2,2,0,2] \n",
    "    represents a square with the following vertices:(0,0), (2,0), (2,2), and (0,2).\n",
    "    The vertices can be listed in clockwise or counter clockwise order but they must\n",
    "    be listed contiguously.  Using the square example, any set of coordinates can be\n",
    "    the first coordinate.  If you chose (2,2) as the first coordinate then acceptable\n",
    "    input would include [2,2,0,2,0,0,2,0] or [2,2,2,0,0,0,0,2].  The input \n",
    "    [2,2,0,0,2,0,0,2] would not result in an accurate perimeter calculation.\n",
    "    Each vertice will have two cordinates. In each pair of cordinates, the x cordinate is \n",
    "    listed first followed by the y position.  This means that for any vector, the numbers\n",
    "    appearing in index positions 0,2,4,6,... are x cordinates and the numbers appearing in\n",
    "    index positions 1,3,5,7,... are y cordinates. The function then returns the \n",
    "    perimeter area of the polygon described by the coordinate pairs contained \n",
    "    within the vector.\n",
    "    \n",
    "    Parameters:\n",
    "    a list or tuple containing integers or floating point numbers\n",
    "    since we are looking for x,y pairs, the list/tuple should contain an even number of elements\n",
    "    \"\"\"\n",
    "    \n",
    "  # we make sure that we received either a list of tuple as input from the user\n",
    "    # we do this in two steps.  First we check to see if we received a tuple.  If\n",
    "    # we did receive a tuple then we convert it to a list.  Then we check to see\n",
    "    # if we received a list.  If we did not, we raise a Type Error and ask the user\n",
    "    # for the correct input.\n",
    "    \n",
    "    if type(input) == tuple:\n",
    "        input = list(input)\n",
    "        \n",
    "    if type(input) != list:\n",
    "        raise TypeError('Your input was not a list or a tuple.  Please enter a list or tuple.')\n",
    "\n",
    "    # now that we know that we have a list, we need to make sure that we have numbers inside\n",
    "    # of the list.  The list could be empty, or contain non-numeric information.  We can handle\n",
    "    # positive or negative floats and integers.  First we test to see if we have an empty list.\n",
    "    \n",
    "    if input == []:\n",
    "        raise ValueError('Your input contained no points.  The area of nothing is zero.')\n",
    "        \n",
    "    # now that we know that we are dealing with a non-empty list, we iterate through and test each\n",
    "    # element to make sure that it is either type int or type float\n",
    "        \n",
    "    for i in range(len(input)):\n",
    "        if type(input[i]) != int and type(input[i]) != float:\n",
    "            raise TypeError('Your list/tuple contains non-numeric input.  Please enter a list of numbers.')\n",
    "        \n",
    "    # in order to have a valid vertice, we must have a cordinate pair.  if the user enters an odd number or \n",
    "    # elements in a list/tuple then we will have an x coordinate without a y coordinate.  we will test to \n",
    "    # make sure that we have a y for every x by making sure that the length of the vector is even\n",
    "    \n",
    "    if len(input) % 2 != 0:\n",
    "        raise Exception('Your vector is missing a value.  Please enter a y coordinate for every x coordinate.')\n",
    "        \n",
    "    # to calculate the perimeter of a polygon, we will need the lenghts of each line segment.  We will calculate \n",
    "    # this using a standard distance formula:\n",
    "    #\n",
    "    # d = sqrt( (y2-y1)^2 + (x2-x1)^2 )\n",
    "\n",
    "    # we initialize two empty lists.  x will contain all of the x values and y will contain all of the y values\n",
    "    # this step will help us have very readable code in our final loop below\n",
    "    x=[]\n",
    "    y=[]\n",
    "\n",
    "    # we will iterate through our input vector and choose each even indice to be an x coord and each odd\n",
    "    # indice to be a y value\n",
    "    for i in range(len(input)):\n",
    "        if int(i) % 2 == 0:\n",
    "            x.append(input[i])\n",
    "        else:\n",
    "            y.append(input[i])\n",
    "\n",
    "    # we now append the first x coord and first y coord onto their respective lists.  This will aid the\n",
    "    # following calculation since it will be necessary to iterate back to our initial points\n",
    "    x.append(input[0])\n",
    "    y.append(input[1])\n",
    "     \n",
    "    # we initialize a dummy variable to zero to help keep track of our summation\n",
    "    sum = 0\n",
    "    \n",
    "    # we will now iterate through both of our x and y lists and sum the calculation that we described above\n",
    "    # since the x an y values are of equal length, it suffices to build and index list the length of our x list\n",
    "    for i in range(len(x)):\n",
    "\n",
    "    # to avoid an index error (since i+1 makes no sense when i is the last possible value) and end our calculation\n",
    "    # at the appropriate time, we limit the index values that this calculation can take as input.  \n",
    "        if (i+1) < len(x):\n",
    "            sum = sum + ((y[i+1]-y[i])**2 + (x[i+1]-x[i])**2)**(1/2)\n",
    "\n",
    "    # finish our calculation described in the above formula   \n",
    "#    answer = (sum)**(1/2)\n",
    "    \n",
    "    # return our answer back to the user\n",
    "    return (sum)\n",
    "       \n",
    "        \n",
    "        \n",
    " \n"
   ]
  },
  {
   "cell_type": "code",
   "execution_count": 5,
   "metadata": {
    "collapsed": false
   },
   "outputs": [
    {
     "name": "stdout",
     "output_type": "stream",
     "text": [
      "Help on function polygperim in module __main__:\n",
      "\n",
      "polygperim(input)\n",
      "    The polygperim(input) function accepts a vector of x,y pairs that describe the \n",
      "    vertices of a polygon given in order. For example, the vector [0,0,2,0,2,2,0,2] \n",
      "    represents a square with the following vertices:(0,0), (2,0), (2,2), and (0,2).\n",
      "    The vertices can be listed in clockwise or counter clockwise order but they must\n",
      "    be listed contiguously.  Using the square example, any set of coordinates can be\n",
      "    the first coordinate.  If you chose (2,2) as the first coordinate then acceptable\n",
      "    input would include [2,2,0,2,0,0,2,0] or [2,2,2,0,0,0,0,2].  The input \n",
      "    [2,2,0,0,2,0,0,2] would not result in an accurate perimeter calculation.\n",
      "    Each vertice will have two cordinates. In each pair of cordinates, the x cordinate is \n",
      "    listed first followed by the y position.  This means that for any vector, the numbers\n",
      "    appearing in index positions 0,2,4,6,... are x cordinates and the numbers appearing in\n",
      "    index positions 1,3,5,7,... are y cordinates. The function then returns the \n",
      "    perimeter area of the polygon described by the coordinate pairs contained \n",
      "    within the vector.\n",
      "    \n",
      "    Parameters:\n",
      "    a list or tuple containing integers or floating point numbers\n",
      "    since we are looking for x,y pairs, the list/tuple should contain an even number of elements\n",
      "\n"
     ]
    }
   ],
   "source": [
    "help(polygperim)"
   ]
  },
  {
   "cell_type": "code",
   "execution_count": 8,
   "metadata": {
    "collapsed": false
   },
   "outputs": [
    {
     "ename": "TypeError",
     "evalue": "Your list/tuple contains non-numeric input.  Please enter a list of numbers.",
     "output_type": "error",
     "traceback": [
      "\u001b[1;31m---------------------------------------------------------------------------\u001b[0m",
      "\u001b[1;31mTypeError\u001b[0m                                 Traceback (most recent call last)",
      "\u001b[1;32m<ipython-input-8-ce02686e744d>\u001b[0m in \u001b[0;36m<module>\u001b[1;34m()\u001b[0m\n\u001b[1;32m----> 1\u001b[1;33m \u001b[0mpolygperim\u001b[0m\u001b[1;33m(\u001b[0m\u001b[1;33m[\u001b[0m\u001b[1;36m1\u001b[0m\u001b[1;33m,\u001b[0m\u001b[1;36m2\u001b[0m\u001b[1;33m,\u001b[0m\u001b[1;34m's'\u001b[0m\u001b[1;33m]\u001b[0m\u001b[1;33m)\u001b[0m\u001b[1;33m\u001b[0m\u001b[0m\n\u001b[0m",
      "\u001b[1;32m<ipython-input-4-3bc35097330e>\u001b[0m in \u001b[0;36mpolygperim\u001b[1;34m(input)\u001b[0m\n\u001b[0;32m     44\u001b[0m     \u001b[1;32mfor\u001b[0m \u001b[0mi\u001b[0m \u001b[1;32min\u001b[0m \u001b[0mrange\u001b[0m\u001b[1;33m(\u001b[0m\u001b[0mlen\u001b[0m\u001b[1;33m(\u001b[0m\u001b[0minput\u001b[0m\u001b[1;33m)\u001b[0m\u001b[1;33m)\u001b[0m\u001b[1;33m:\u001b[0m\u001b[1;33m\u001b[0m\u001b[0m\n\u001b[0;32m     45\u001b[0m         \u001b[1;32mif\u001b[0m \u001b[0mtype\u001b[0m\u001b[1;33m(\u001b[0m\u001b[0minput\u001b[0m\u001b[1;33m[\u001b[0m\u001b[0mi\u001b[0m\u001b[1;33m]\u001b[0m\u001b[1;33m)\u001b[0m \u001b[1;33m!=\u001b[0m \u001b[0mint\u001b[0m \u001b[1;32mand\u001b[0m \u001b[0mtype\u001b[0m\u001b[1;33m(\u001b[0m\u001b[0minput\u001b[0m\u001b[1;33m[\u001b[0m\u001b[0mi\u001b[0m\u001b[1;33m]\u001b[0m\u001b[1;33m)\u001b[0m \u001b[1;33m!=\u001b[0m \u001b[0mfloat\u001b[0m\u001b[1;33m:\u001b[0m\u001b[1;33m\u001b[0m\u001b[0m\n\u001b[1;32m---> 46\u001b[1;33m             \u001b[1;32mraise\u001b[0m \u001b[0mTypeError\u001b[0m\u001b[1;33m(\u001b[0m\u001b[1;34m'Your list/tuple contains non-numeric input.  Please enter a list of numbers.'\u001b[0m\u001b[1;33m)\u001b[0m\u001b[1;33m\u001b[0m\u001b[0m\n\u001b[0m\u001b[0;32m     47\u001b[0m \u001b[1;33m\u001b[0m\u001b[0m\n\u001b[0;32m     48\u001b[0m     \u001b[1;31m# in order to have a valid vertice, we must have a cordinate pair.  if the user enters an odd number or\u001b[0m\u001b[1;33m\u001b[0m\u001b[1;33m\u001b[0m\u001b[0m\n",
      "\u001b[1;31mTypeError\u001b[0m: Your list/tuple contains non-numeric input.  Please enter a list of numbers."
     ]
    }
   ],
   "source": [
    "polygperim([1,2,'s'])"
   ]
  },
  {
   "cell_type": "code",
   "execution_count": 11,
   "metadata": {
    "collapsed": false
   },
   "outputs": [
    {
     "data": {
      "text/plain": [
       "6.0"
      ]
     },
     "execution_count": 11,
     "metadata": {},
     "output_type": "execute_result"
    }
   ],
   "source": [
    "polygperim([2,2,4,2,4,1,2,1])"
   ]
  },
  {
   "cell_type": "code",
   "execution_count": 12,
   "metadata": {
    "collapsed": false
   },
   "outputs": [
    {
     "data": {
      "text/plain": [
       "17.071067811865476"
      ]
     },
     "execution_count": 12,
     "metadata": {},
     "output_type": "execute_result"
    }
   ],
   "source": [
    "polygperim([-3,0,-3,5,2,5,])"
   ]
  },
  {
   "cell_type": "code",
   "execution_count": 13,
   "metadata": {
    "collapsed": false
   },
   "outputs": [
    {
     "data": {
      "text/plain": [
       "17.071067811865476"
      ]
     },
     "execution_count": 13,
     "metadata": {},
     "output_type": "execute_result"
    }
   ],
   "source": [
    "5+5+50**(.5)"
   ]
  },
  {
   "cell_type": "code",
   "execution_count": 14,
   "metadata": {
    "collapsed": true
   },
   "outputs": [],
   "source": [
    "def polygarea(input):\n",
    "    \"\"\"The polygarea(input) function accepts a vector of x,y pairs that describe the \n",
    "    vertices of a polygon given in order.  For example, the vector [0,0,2,0,2,2,0,2] \n",
    "    represents a square with the following vertices:(0,0), (2,0), (2,2), and (0,2).\n",
    "    The vertices can be listed in clockwise or counter clockwise order but they must\n",
    "    be listed contiguously.  Using the square example, any set of coordinates can be\n",
    "    the first coordinate.  If you chose (2,2) as the first coordinate then acceptable\n",
    "    input would include [2,2,0,2,0,0,2,0] or [2,2,2,0,0,0,0,2].  The input \n",
    "    [2,2,0,0,2,0,0,2] would not result in an accurate area calculation.\n",
    "    Each vertice will have two cordinates. In each pair of cordinates, the x cordinate is \n",
    "    listed first followed by the y position.  This means that for any vector, the numbers\n",
    "    appearing in index positions 0,2,4,6,... are x cordinates and the numbers appearing in\n",
    "    index positions 1,3,5,7,... are y cordinates. The function then returns the area of \n",
    "    the polygon described by the coordinate pairs contained within the vector.\n",
    "    \n",
    "    Parameters:\n",
    "    a list or tuple containing integers or floating point numbers \n",
    "    since we are looking for x,y pairs, the list/tuple should contain an even number of elements\n",
    "    \"\"\"\n",
    "    \n",
    "    # we make sure that we received either a list of tuple as input from the user\n",
    "    # we do this in two steps.  First we check to see if we received a tuple.  If\n",
    "    # we did receive a tuple then we convert it to a list.  Then we check to see\n",
    "    # if we received a list.  If we did not, we raise a Type Error and ask the user\n",
    "    # for the correct input.\n",
    "    \n",
    "    if type(input) == tuple:\n",
    "        input = list(input)\n",
    "        \n",
    "    if type(input) != list:\n",
    "        raise TypeError('Your input was not a list or a tuple.  Please enter a list or tuple.')\n",
    "\n",
    "    # now that we know that we have a list, we need to make sure that we have numbers inside\n",
    "    # of the list.  The list could be empty, or contain non-numeric information.  We can handle\n",
    "    # positive or negative floats and integers.  First we test to see if we have an empty list.\n",
    "    \n",
    "    if input == []:\n",
    "        raise ValueError('Your input contained no points.  The area of nothing is zero.')\n",
    "        \n",
    "    # now that we know that we are dealing with a non-empty list, we iterate through and test each\n",
    "    # element to make sure that it is either type int or type float\n",
    "        \n",
    "    for i in range(len(input)):\n",
    "        if type(input[i]) != int and type(input[i]) != float:\n",
    "            raise TypeError('Your list/tuple contains non-numeric input.  Please enter a list of numbers.')\n",
    "        \n",
    "    # in order to have a valid vertice, we must have a cordinate pair.  if the user enters an odd number or \n",
    "    # elements in a list/tuple then we will have an x coordinate without a y coordinate.  we will test to \n",
    "    # make sure that we have a y for every x by making sure that the length of the vector is even\n",
    "    \n",
    "    if len(input) % 2 != 0:\n",
    "        raise Exception('Your vector is missing a value.  Please enter a y coordinate for every x coordinate.')\n",
    "        \n",
    "    # to calculate the area of a polygon, we will use a formula based on Green's theorem:\n",
    "    #\n",
    "    # a = 1/2 abs[ sum ( XnYn+1 - YnXn+1)]\n",
    "\n",
    "    # we initialize two empty lists.  x will contain all of the x values and y will contain all of the y values\n",
    "    # this step will help us have very readable code in our final loop below\n",
    "    x=[]\n",
    "    y=[]\n",
    "\n",
    "    # we will iterate through our input vector and choose each even indice to be an x coord and each odd\n",
    "    # indice to be a y value\n",
    "    for i in range(len(input)):\n",
    "        if int(i) % 2 == 0:\n",
    "            x.append(input[i])\n",
    "        else:\n",
    "            y.append(input[i])\n",
    "\n",
    "    # we now append the first x coord and first y coord onto their respective lists.  This will aid the\n",
    "    # following calculation since it will be necessary to iterate back to our initial points\n",
    "    x.append(input[0])\n",
    "    y.append(input[1])\n",
    "     \n",
    "    # we initialize a dummy variable to zero to help keep track of our summation\n",
    "    sum = 0\n",
    "    \n",
    "    # we will now iterate through both of our x and y lists and sum the calculation that we described above\n",
    "    # since the x an y values are of equal length, it suffices to build and index list the length of our x list\n",
    "    for i in range(len(x)):\n",
    "\n",
    "    # to avoid an index error (since i+1 makes no sense when i is the last possible value) and end our calculation\n",
    "    # at the appropriate time, we limit the index values that this calculation can take as input.  \n",
    "        if (i+1) < len(x):\n",
    "            sum = sum + (x[i]*y[i+1] - x[i+1]*y[i])\n",
    "\n",
    "    # finish our calculation described in the above formula   \n",
    "    answer = .5 * abs(sum)\n",
    "    \n",
    "    # return our answer back to the user\n",
    "    return (answer)\n",
    "    \n",
    "    \n",
    "        \n",
    "        "
   ]
  },
  {
   "cell_type": "code",
   "execution_count": 15,
   "metadata": {
    "collapsed": false
   },
   "outputs": [
    {
     "name": "stdout",
     "output_type": "stream",
     "text": [
      "Help on function polygarea in module __main__:\n",
      "\n",
      "polygarea(input)\n",
      "    The polygarea(input) function accepts a vector of x,y pairs that describe the \n",
      "    vertices of a polygon given in order.  For example, the vector [0,0,2,0,2,2,0,2] \n",
      "    represents a square with the following vertices:(0,0), (2,0), (2,2), and (0,2).\n",
      "    The vertices can be listed in clockwise or counter clockwise order but they must\n",
      "    be listed contiguously.  Using the square example, any set of coordinates can be\n",
      "    the first coordinate.  If you chose (2,2) as the first coordinate then acceptable\n",
      "    input would include [2,2,0,2,0,0,2,0] or [2,2,2,0,0,0,0,2].  The input \n",
      "    [2,2,0,0,2,0,0,2] would not result in an accurate area calculation.\n",
      "    Each vertice will have two cordinates. In each pair of cordinates, the x cordinate is \n",
      "    listed first followed by the y position.  This means that for any vector, the numbers\n",
      "    appearing in index positions 0,2,4,6,... are x cordinates and the numbers appearing in\n",
      "    index positions 1,3,5,7,... are y cordinates. The function then returns the area of \n",
      "    the polygon described by the coordinate pairs contained within the vector.\n",
      "    \n",
      "    Parameters:\n",
      "    a list or tuple containing integers or floating point numbers \n",
      "    since we are looking for x,y pairs, the list/tuple should contain an even number of elements\n",
      "\n"
     ]
    }
   ],
   "source": [
    "help(polygarea)"
   ]
  },
  {
   "cell_type": "code",
   "execution_count": 16,
   "metadata": {
    "collapsed": false
   },
   "outputs": [
    {
     "data": {
      "text/plain": [
       "2.0"
      ]
     },
     "execution_count": 16,
     "metadata": {},
     "output_type": "execute_result"
    }
   ],
   "source": [
    "polygarea([2,2,4,2,4,1,2,1])"
   ]
  },
  {
   "cell_type": "code",
   "execution_count": 17,
   "metadata": {
    "collapsed": false
   },
   "outputs": [
    {
     "data": {
      "text/plain": [
       "2.0"
      ]
     },
     "execution_count": 17,
     "metadata": {},
     "output_type": "execute_result"
    }
   ],
   "source": [
    "polygarea([4,2,4,1,2,1,2,2])"
   ]
  },
  {
   "cell_type": "code",
   "execution_count": 18,
   "metadata": {
    "collapsed": false
   },
   "outputs": [
    {
     "data": {
      "text/plain": [
       "50.0"
      ]
     },
     "execution_count": 18,
     "metadata": {},
     "output_type": "execute_result"
    }
   ],
   "source": [
    "polygarea([-2,3,3,-7,8,3])"
   ]
  }
 ],
 "metadata": {
  "kernelspec": {
   "display_name": "Python 3",
   "language": "python",
   "name": "python3"
  },
  "language_info": {
   "codemirror_mode": {
    "name": "ipython",
    "version": 3
   },
   "file_extension": ".py",
   "mimetype": "text/x-python",
   "name": "python",
   "nbconvert_exporter": "python",
   "pygments_lexer": "ipython3",
   "version": "3.4.3"
  }
 },
 "nbformat": 4,
 "nbformat_minor": 0
}
